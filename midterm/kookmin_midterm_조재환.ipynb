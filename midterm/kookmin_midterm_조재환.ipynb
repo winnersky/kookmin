{
 "cells": [
  {
   "cell_type": "markdown",
   "metadata": {},
   "source": [
    "# Python_중간발표\n",
    "### 데이터사이언스학과 M2015228 조재환"
   ]
  },
  {
   "cell_type": "code",
   "execution_count": 1,
   "metadata": {
    "collapsed": false
   },
   "outputs": [],
   "source": [
    "drinks={\n",
    "    'martini' : {'vodka', 'vermouth'},\n",
    "    'black russian' : {'vodka', 'kahlua'},\n",
    "    'white russian' : {'cream', 'kahlua', 'vodka'},\n",
    "    'manhattan' : {'rye', 'vermouth', 'bitters'},\n",
    "    'screwdriver': {'orange juice', 'vodka'},\n",
    "    'verorange' : {'orange juice', 'vermouth'},\n",
    "    'kahlua milk' : {'kahlua', 'milk'},\n",
    "    'jin tonic' : {'jin', 'tonic water'},\n",
    "    'mojito' : {'rum', 'lime juice'},\n",
    "    'cinderella' : {'orange juice', 'lemon juice','pineapple juice'}\n",
    "    }"
   ]
  },
  {
   "cell_type": "code",
   "execution_count": 2,
   "metadata": {
    "collapsed": false
   },
   "outputs": [
    {
     "name": "stdout",
     "output_type": "stream",
     "text": [
      "what do you want? rum\n",
      "Here are some Recipt:\n",
      "mojito\n"
     ]
    }
   ],
   "source": [
    "inputs = input('what do you want? ')\n",
    "print('Here are some Recipt:')\n",
    "\n",
    "for name, contents in drinks.items():\n",
    "    if inputs in contents:\n",
    "        print(name)"
   ]
  },
  {
   "cell_type": "code",
   "execution_count": 19,
   "metadata": {
    "collapsed": true
   },
   "outputs": [],
   "source": [
    "morse = {\n",
    "    '.-':'A','-...':'B','-.-.':'C','-..':'D','.':'E','..-.':'F',\n",
    "    '--.':'G','....':'H','..':'I','.---':'J','-.-':'K','.-..':'L',\n",
    "    '--':'M','-.':'N','---':'O','.--.':'P','--.-':'Q','.-.':'R',\n",
    "    '...':'S','-':'T','..-':'U','...-':'V','.--':'W','-..-':'X',\n",
    "    '-.--':'Y','--..':'Z', '':' '\n",
    "}"
   ]
  },
  {
   "cell_type": "code",
   "execution_count": 18,
   "metadata": {
    "collapsed": true
   },
   "outputs": [],
   "source": [
    "code = '.... .  ... .-.. . . .--. ...  . .- .-. .-.. -.--'"
   ]
  },
  {
   "cell_type": "code",
   "execution_count": 20,
   "metadata": {
    "collapsed": false
   },
   "outputs": [
    {
     "name": "stdout",
     "output_type": "stream",
     "text": [
      "What's going on? am late\n",
      "['a', 'm', ' ', 'l', 'a', 't', 'e']\n"
     ]
    }
   ],
   "source": [
    "senten = input(\"What's going on? \")\n",
    "senten = \".\".join(senten)\n",
    "senten = senten.split('.')\n",
    "print(senten)"
   ]
  },
  {
   "cell_type": "code",
   "execution_count": 21,
   "metadata": {
    "collapsed": false
   },
   "outputs": [
    {
     "name": "stdout",
     "output_type": "stream",
     "text": [
      "   "
     ]
    }
   ],
   "source": [
    "for dot, capi in morse.items():\n",
    "    if capi in senten:\n",
    "        print(dot,end=\" \")\n",
    "        print(morse.get(dot), end=\" \")"
   ]
  }
 ],
 "metadata": {
  "kernelspec": {
   "display_name": "Python 3",
   "language": "python",
   "name": "python3"
  },
  "language_info": {
   "codemirror_mode": {
    "name": "ipython",
    "version": 3
   },
   "file_extension": ".py",
   "mimetype": "text/x-python",
   "name": "python",
   "nbconvert_exporter": "python",
   "pygments_lexer": "ipython3",
   "version": "3.5.0"
  }
 },
 "nbformat": 4,
 "nbformat_minor": 0
}
