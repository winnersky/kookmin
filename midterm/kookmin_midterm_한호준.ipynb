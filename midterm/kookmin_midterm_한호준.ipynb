{
 "cells": [
  {
   "cell_type": "markdown",
   "metadata": {},
   "source": [
    "# 본문에서 사용된 키워드 찾기\n"
   ]
  },
  {
   "cell_type": "code",
   "execution_count": 1,
   "metadata": {
    "collapsed": false
   },
   "outputs": [
    {
     "ename": "ImportError",
     "evalue": "No module named 'lxml'",
     "output_type": "error",
     "traceback": [
      "\u001b[0;31m---------------------------------------------------------------------------\u001b[0m",
      "\u001b[0;31mImportError\u001b[0m                               Traceback (most recent call last)",
      "\u001b[0;32m<ipython-input-1-27897f32f168>\u001b[0m in \u001b[0;36m<module>\u001b[0;34m()\u001b[0m\n\u001b[1;32m      1\u001b[0m \u001b[0;32mimport\u001b[0m \u001b[0mrequests\u001b[0m\u001b[0;34m\u001b[0m\u001b[0m\n\u001b[0;32m----> 2\u001b[0;31m \u001b[0;32mimport\u001b[0m \u001b[0mlxml\u001b[0m\u001b[0;34m.\u001b[0m\u001b[0mhtml\u001b[0m\u001b[0;34m\u001b[0m\u001b[0m\n\u001b[0m",
      "\u001b[0;31mImportError\u001b[0m: No module named 'lxml'"
     ]
    }
   ],
   "source": [
    "import requests\n",
    "import lxml.html\n"
   ]
  },
  {
   "cell_type": "code",
   "execution_count": 3,
   "metadata": {
    "collapsed": true
   },
   "outputs": [],
   "source": [
    "def extract(url, path):\n",
    "    res = requests.get(url)\n",
    "    res.encoding = 'cp949'\n",
    "    root = lxml.html.fromstring(res.text)\n",
    "    # print(root.xpath(path).text_content())\n",
    "    return root.xpath(path)"
   ]
  },
  {
   "cell_type": "code",
   "execution_count": 2,
   "metadata": {
    "collapsed": true
   },
   "outputs": [],
   "source": [
    "## url \n",
    "url = \"http://news.naver.com/main/read.nhn?oid=421&sid1=101&aid=0002030562&mid=shm&cid=428288&mode=LSD&nh=20160430115322\"\n",
    "## path\n",
    "path = '//div[@id=\"articleBodyContents\"]'\n",
    "\n"
   ]
  },
  {
   "cell_type": "code",
   "execution_count": 30,
   "metadata": {
    "collapsed": false
   },
   "outputs": [],
   "source": [
    "import konlpy\n",
    "from konlpy.tag import Kkma, Twitter, Komoran, Hannanum\n",
    "from konlpy.utils import pprint\n",
    "from collections import Counter"
   ]
  },
  {
   "cell_type": "code",
   "execution_count": 5,
   "metadata": {
    "collapsed": true
   },
   "outputs": [],
   "source": [
    "tagger = Kkma()   ##형태소분석기     참조 - http://kkma.snu.ac.kr/statistic?submenu=postag"
   ]
  },
  {
   "cell_type": "code",
   "execution_count": 42,
   "metadata": {
    "collapsed": false
   },
   "outputs": [
    {
     "name": "stdout",
     "output_type": "stream",
     "text": [
      "\r\n",
      "\t\r\n",
      "\t\r\n",
      "\t© News1 장수영(세종=뉴스1) 김명은 기자 = 미국 정부가 한국과 중국, 일본, 대만, 독일 등 5개국을 환율조작 여부 관찰대상국(monitoring list)으로 분류했다. 다만 각종 제재 조치가 부과되는 환율조작국(심층분석 대상국)으로 지정되는 사태는 피했다. 우리 정부는 이번 관찰대상국 지정이 우리 외환시장에 미칠 영향은 제한적일 것이라고 내다봤다. 30일 기획재정부에 따르면 미국 재무부는 지난 2월 발효된 교역촉진법에 따라 현저한 대미 무역(對美) 흑자, 상당한 경상흑자, 지속적 일방향 시장개입국 요건을 기준으로 심층분석을 실시한 결과 한국을 포함한 5개국을 관찰대상국으로 분류했다. 미 재무장관은 종합무역법과 교역촉진법에 따라 6개월마다 주요교역국의 경제·환율정책에 관한 보고서를 의회에 제출한다. 이번 보고서에서 미 재무부는 과거 자료 등을 토대로 교역촉진법상의 요건을 구체적인 수치로 계량화했다. 대미 무역(상품)흑자 규모가 200억 달러를 초과하고 해당국 국내총생산(GDP)의 3% 이상의 경상수지 흑자를 유지하면서 일방향으로 지속된 외환시장 개입(연간 GDP 대비 2% 초과 순매수, 12개월 중 8개월 이상 순매수)이 이뤄지는 3가지 기준을 적용했다. 이를 모두 충족할 때 환율조작국에 해당하는 심층분석 대상국가로 지정된다. 주요 교역상대국 중 심층분석 대상 요건 3가지를 모두 충족시키는 국가는 없었다.한국은 대미 무역 흑자 규모(2015년 기준 283억 달러)와 경상수지 흑자 비율(7.7%) 기준에는 해당되지만 외환시장에 대한 지속적인 일방향 개입은 없었다고 평가됐다.  미 재무부는 한국이 금융시장 변동성 확대 시 원화의 절상·절하를 모두 방어하기 위해 외환시장에 개입한 것으로 추정했다. 지난해 하반기부터 올 3월까지 260억 달러 규모의 매도개입을 실시한 것으로 봤다. 미 재무부는 한국에 대해 외환시장 개입은 무질서한 시장환경 발생시로 제한할 필요가 있다고 권고했다. 또한 중장기적으로 원화절상은 비교역부문으로의 자원 재분배를 통해 수출에 대한 과도한 의존도를 완화하는데 기여할 것이라고 전망했다. 아울러 외환운용에 대한 투명성을 제고하고 내수활성화를 위한 추가적인 조치가 필요하다고 강조했다. 미 재무부는 세계 경기와 관련해 \"투자·수출 중심에서 소비 중심 경제로 변화하고 있는 중국이 부진이 두드러진다\"면서 \"이러한 신흥국 성장둔화 우려에 따른 자본유출과 미국 경제의 호조는 달러 대비 주요통화의 약세를 야기하고 있다\"고 분석했다.기재부 관계자는 \"이번 관찰대상국 지정이 우리 외환시장에 미칠 영향은 제한적일 것\"이라고 분석했다. 이 관계자는 \"한국은 무역과 경상수지 기준에만 해당할 뿐 환율정책과 관련해서는 특별히 문제될 것이 없다\"면서 \"외환시장에서 급격한 변동이 있을 때 양방향에서 스무딩 오퍼레이션(미세조정)을 해왔다는 것인데 앞으로도 큰 (정책)변화는 없을 것\"이라고 덧붙였다. drama@▶ 핫이슈- \"北 함경북도서 은행털이 사건 발생…처음 있는 일\"▶ 핫이슈- 절박함에 몰린 서민들…\"나도 대리기사 될 줄 몰랐다\"▶ 뉴스1 100% 무료 만화 서비스 오픈!![© 뉴스1코리아(news1.kr), 무단 전재 및 재배포 금지]\r\n",
      "\t\r\n",
      "\t\n"
     ]
    }
   ],
   "source": [
    "list = []\n",
    "shape = \"NNG\" #명사\n",
    "#shape = \"VV\"  #동사\n",
    "#shape = \"VA\"  #형용사\n",
    "\n",
    "for node in extract(url, path):\n",
    "    print(node.text_content())\n",
    "    texts = node.text_content()\n",
    "    cleanedLine = texts.strip()\n",
    "    if cleanedLine: # is not empty\n",
    "        text = tagger.pos(texts)\n",
    "        for word, tag in text:\n",
    "            if tag.startswith(shape):\n",
    "                list.append(word)\n",
    "                list\n",
    "        \n",
    "\n"
   ]
  },
  {
   "cell_type": "code",
   "execution_count": 43,
   "metadata": {
    "collapsed": false
   },
   "outputs": [
    {
     "data": {
      "text/plain": [
       "Counter({'각종': 1,\n",
       "         '개입': 6,\n",
       "         '결과': 1,\n",
       "         '경기': 1,\n",
       "         '경상': 4,\n",
       "         '경제': 3,\n",
       "         '고': 1,\n",
       "         '과거': 1,\n",
       "         '과도': 1,\n",
       "         '관계자': 2,\n",
       "         '관련': 2,\n",
       "         '관찰': 4,\n",
       "         '교역': 5,\n",
       "         '교역국': 1,\n",
       "         '구체적': 1,\n",
       "         '국': 2,\n",
       "         '국가': 2,\n",
       "         '국내': 1,\n",
       "         '국은': 1,\n",
       "         '권고': 1,\n",
       "         '규모': 3,\n",
       "         '금융': 1,\n",
       "         '금지': 1,\n",
       "         '기사': 1,\n",
       "         '기여': 1,\n",
       "         '기자': 1,\n",
       "         '기재': 1,\n",
       "         '기준': 5,\n",
       "         '기획': 1,\n",
       "         '김': 1,\n",
       "         '나도': 1,\n",
       "         '내수': 1,\n",
       "         '뉴스': 3,\n",
       "         '달러': 3,\n",
       "         '당국': 1,\n",
       "         '대': 1,\n",
       "         '대리': 1,\n",
       "         '대미': 3,\n",
       "         '대비': 2,\n",
       "         '대상': 2,\n",
       "         '대상국': 5,\n",
       "         '독일': 1,\n",
       "         '둔화': 1,\n",
       "         '때': 2,\n",
       "         '만화': 1,\n",
       "         '매도': 1,\n",
       "         '매수': 2,\n",
       "         '면': 2,\n",
       "         '명': 1,\n",
       "         '무단': 1,\n",
       "         '무료': 1,\n",
       "         '무역': 5,\n",
       "         '무질서': 1,\n",
       "         '문제': 1,\n",
       "         '미': 4,\n",
       "         '미세': 1,\n",
       "         '발생': 2,\n",
       "         '발효': 1,\n",
       "         '방어': 1,\n",
       "         '방향': 4,\n",
       "         '배포': 1,\n",
       "         '법과': 1,\n",
       "         '변동': 1,\n",
       "         '변동성': 1,\n",
       "         '변화': 2,\n",
       "         '보고서': 2,\n",
       "         '부': 1,\n",
       "         '부과': 1,\n",
       "         '부문': 1,\n",
       "         '부진': 1,\n",
       "         '분류': 2,\n",
       "         '분석': 6,\n",
       "         '비율': 1,\n",
       "         '사건': 1,\n",
       "         '사태': 1,\n",
       "         '상당': 1,\n",
       "         '상대국': 1,\n",
       "         '상품': 1,\n",
       "         '생산': 1,\n",
       "         '서민': 1,\n",
       "         '서비스': 1,\n",
       "         '성장': 1,\n",
       "         '세계': 1,\n",
       "         '세종': 1,\n",
       "         '소비': 1,\n",
       "         '수영': 1,\n",
       "         '수지': 3,\n",
       "         '수출': 2,\n",
       "         '수치': 1,\n",
       "         '순': 2,\n",
       "         '시': 2,\n",
       "         '시장': 10,\n",
       "         '신흥국': 1,\n",
       "         '실시': 2,\n",
       "         '심층': 4,\n",
       "         '앞': 1,\n",
       "         '야기': 1,\n",
       "         '약세': 1,\n",
       "         '양': 1,\n",
       "         '여부': 1,\n",
       "         '연간': 1,\n",
       "         '영향': 2,\n",
       "         '오퍼레이션': 1,\n",
       "         '오픈': 1,\n",
       "         '올': 1,\n",
       "         '완화': 1,\n",
       "         '외환': 8,\n",
       "         '요건': 3,\n",
       "         '우려': 1,\n",
       "         '운용': 1,\n",
       "         '원화': 2,\n",
       "         '유지': 1,\n",
       "         '유출': 1,\n",
       "         '은행': 1,\n",
       "         '을': 1,\n",
       "         '의': 1,\n",
       "         '의존도': 1,\n",
       "         '의회': 1,\n",
       "         '이': 1,\n",
       "         '이번': 2,\n",
       "         '이상': 2,\n",
       "         '일': 4,\n",
       "         '일본': 1,\n",
       "         '자료': 1,\n",
       "         '자본': 1,\n",
       "         '자원': 1,\n",
       "         '장': 1,\n",
       "         '장관': 1,\n",
       "         '재무': 1,\n",
       "         '재무부': 5,\n",
       "         '재분배': 1,\n",
       "         '적용': 1,\n",
       "         '적인': 1,\n",
       "         '전망': 1,\n",
       "         '전재': 1,\n",
       "         '절박': 1,\n",
       "         '절상': 2,\n",
       "         '절하': 1,\n",
       "         '정부': 3,\n",
       "         '정책': 3,\n",
       "         '제고': 1,\n",
       "         '제재': 1,\n",
       "         '제출': 1,\n",
       "         '제한': 3,\n",
       "         '조작': 3,\n",
       "         '조정': 1,\n",
       "         '조치': 2,\n",
       "         '종합': 1,\n",
       "         '주요': 3,\n",
       "         '중국': 2,\n",
       "         '중심': 2,\n",
       "         '중장기': 1,\n",
       "         '지난해': 1,\n",
       "         '지속': 1,\n",
       "         '지속적': 2,\n",
       "         '지정': 4,\n",
       "         '처음': 1,\n",
       "         '초과': 2,\n",
       "         '촉진법': 3,\n",
       "         '총': 1,\n",
       "         '추가': 1,\n",
       "         '추정': 1,\n",
       "         '충족': 2,\n",
       "         '코리': 1,\n",
       "         '털이': 1,\n",
       "         '토대': 1,\n",
       "         '통화': 1,\n",
       "         '투명성': 1,\n",
       "         '투자': 1,\n",
       "         '평가': 1,\n",
       "         '포함': 1,\n",
       "         '필요': 2,\n",
       "         '하반기': 1,\n",
       "         '한국': 5,\n",
       "         '함경북도': 1,\n",
       "         '핫이슈': 2,\n",
       "         '해': 1,\n",
       "         '해당': 3,\n",
       "         '현저': 1,\n",
       "         '호조': 1,\n",
       "         '확대': 1,\n",
       "         '환경': 1,\n",
       "         '환율': 5,\n",
       "         '활성화': 1,\n",
       "         '흑자': 6})"
      ]
     },
     "execution_count": 43,
     "metadata": {},
     "output_type": "execute_result"
    }
   ],
   "source": [
    "Counter(list)\n",
    "#Counter(list).most_common(10)\n"
   ]
  },
  {
   "cell_type": "code",
   "execution_count": null,
   "metadata": {
    "collapsed": true
   },
   "outputs": [],
   "source": [
    "#http://api.openhangul.com/overview?m=sentiment   연세대학교 감성어사전 api"
   ]
  }
 ],
 "metadata": {
  "kernelspec": {
   "display_name": "Python 3",
   "language": "python",
   "name": "python3"
  },
  "language_info": {
   "codemirror_mode": {
    "name": "ipython",
    "version": 3
   },
   "file_extension": ".py",
   "mimetype": "text/x-python",
   "name": "python",
   "nbconvert_exporter": "python",
   "pygments_lexer": "ipython3",
   "version": "3.5.0"
  }
 },
 "nbformat": 4,
 "nbformat_minor": 0
}
