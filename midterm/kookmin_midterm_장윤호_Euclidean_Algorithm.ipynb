{
 "cells": [
  {
   "cell_type": "markdown",
   "metadata": {},
   "source": [
    "# 유클리드 호제법을 이용한 최소공배수와 최대공약수 구하기"
   ]
  },
  {
   "cell_type": "markdown",
   "metadata": {
    "collapsed": true
   },
   "source": [
    "# 출처 : 정보처리기사 실기 알고리즘 기출문제"
   ]
  },
  {
   "cell_type": "code",
   "execution_count": 57,
   "metadata": {
    "collapsed": false
   },
   "outputs": [],
   "source": [
    "result = 10 % 5"
   ]
  },
  {
   "cell_type": "code",
   "execution_count": 99,
   "metadata": {
    "collapsed": false
   },
   "outputs": [],
   "source": [
    "def euclidean(a,b):\n",
    "    if a>b:\n",
    "        high = a\n",
    "        low = b\n",
    "        r = 1\n",
    "        while r <= 0:\n",
    "            r = high % low\n",
    "            high = low\n",
    "            low = r\n",
    "        low = (a*b)/high\n",
    "        return low, high\n",
    "    elif a<b:\n",
    "        high = b\n",
    "        low = a\n",
    "        r = 1\n",
    "        while r <= 0:\n",
    "            r = high % low\n",
    "            high = low\n",
    "            low = r\n",
    "        low = (a*b)/high\n",
    "        return low, high\n",
    "    elif a==b:\n",
    "        print (\"서로 다른 수를 기입하십시오.\")"
   ]
  },
  {
   "cell_type": "code",
   "execution_count": 100,
   "metadata": {
    "collapsed": false
   },
   "outputs": [
    {
     "data": {
      "text/plain": [
       "(2.0, 10)"
      ]
     },
     "execution_count": 100,
     "metadata": {},
     "output_type": "execute_result"
    }
   ],
   "source": [
    "euclidean(10,2)"
   ]
  }
 ],
 "metadata": {
  "kernelspec": {
   "display_name": "Python 3",
   "language": "python",
   "name": "python3"
  },
  "language_info": {
   "codemirror_mode": {
    "name": "ipython",
    "version": 3
   },
   "file_extension": ".py",
   "mimetype": "text/x-python",
   "name": "python",
   "nbconvert_exporter": "python",
   "pygments_lexer": "ipython3",
   "version": "3.5.0"
  }
 },
 "nbformat": 4,
 "nbformat_minor": 0
}
