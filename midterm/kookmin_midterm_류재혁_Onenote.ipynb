{
 "cells": [
  {
   "cell_type": "markdown",
   "metadata": {},
   "source": [
    "# 작고 부드러운 One Note안의 내 메모기록을 txt 파일로 가져오기"
   ]
  },
  {
   "cell_type": "code",
   "execution_count": 1,
   "metadata": {
    "collapsed": true
   },
   "outputs": [],
   "source": [
    "import onedrivesdk"
   ]
  },
  {
   "cell_type": "markdown",
   "metadata": {},
   "source": [
    "내 API의 권한 얻기"
   ]
  },
  {
   "cell_type": "code",
   "execution_count": 3,
   "metadata": {
    "collapsed": true
   },
   "outputs": [],
   "source": [
    "from onedrivesdk.helpers import GetAuthCodeServer "
   ]
  },
  {
   "cell_type": "markdown",
   "metadata": {},
   "source": [
    "리디렉트 url, 비밀번호, 아이디 등 권한생성을 위한 준비"
   ]
  },
  {
   "cell_type": "code",
   "execution_count": 5,
   "metadata": {
    "collapsed": true
   },
   "outputs": [],
   "source": [
    "redirect_uri = \"http://localhost:8080/\" "
   ]
  },
  {
   "cell_type": "code",
   "execution_count": 6,
   "metadata": {
    "collapsed": true
   },
   "outputs": [],
   "source": [
    "client_secret = \"wjOxKXxfnLQM73YjrECKTb0Pu7KR5al7\""
   ]
  },
  {
   "cell_type": "markdown",
   "metadata": {},
   "source": [
    "변수 지정, 오프라인 접근, 읽고 쓰기 권한 부여받기"
   ]
  },
  {
   "cell_type": "code",
   "execution_count": 7,
   "metadata": {
    "collapsed": true
   },
   "outputs": [],
   "source": [
    "client = onedrivesdk.get_default_client(client_id='000000004C18A575',\n",
    "                                        scopes=['wl.signin',\n",
    "                                                'wl.offline_access',\n",
    "                                                'onedrive.readwrite'])"
   ]
  },
  {
   "cell_type": "markdown",
   "metadata": {},
   "source": [
    "권한을 부여받은 url 변수지정"
   ]
  },
  {
   "cell_type": "code",
   "execution_count": 8,
   "metadata": {
    "collapsed": true
   },
   "outputs": [],
   "source": [
    "auth_url = client.auth_provider.get_auth_url(redirect_uri)"
   ]
  },
  {
   "cell_type": "code",
   "execution_count": 9,
   "metadata": {
    "collapsed": false
   },
   "outputs": [
    {
     "data": {
      "text/plain": [
       "'https://login.live.com/oauth20_authorize.srf?client_id=000000004C18A575&redirect_uri=http%3A%2F%2Flocalhost%3A8080%2F&scope=wl.signin+wl.offline_access+onedrive.readwrite&response_type=code'"
      ]
     },
     "execution_count": 9,
     "metadata": {},
     "output_type": "execute_result"
    }
   ],
   "source": [
    "auth_url"
   ]
  },
  {
   "cell_type": "markdown",
   "metadata": {},
   "source": [
    "auth_url과 redirect_url을 통한 서버확인"
   ]
  },
  {
   "cell_type": "code",
   "execution_count": 36,
   "metadata": {
    "collapsed": false
   },
   "outputs": [
    {
     "name": "stderr",
     "output_type": "stream",
     "text": [
      "127.0.0.1 - - [21/Apr/2016 23:57:18] \"GET /?code=M0b67203b-4389-2ff1-3240-c2b679d05006 HTTP/1.1\" 200 -\n"
     ]
    }
   ],
   "source": [
    "code = GetAuthCodeServer.get_auth_code(auth_url, redirect_uri)"
   ]
  },
  {
   "cell_type": "code",
   "execution_count": 37,
   "metadata": {
    "collapsed": false
   },
   "outputs": [
    {
     "data": {
      "text/plain": [
       "'M0b67203b-4389-2ff1-3240-c2b679d05006'"
      ]
     },
     "execution_count": 37,
     "metadata": {},
     "output_type": "execute_result"
    }
   ],
   "source": [
    "code"
   ]
  },
  {
   "cell_type": "code",
   "execution_count": 35,
   "metadata": {
    "collapsed": false
   },
   "outputs": [
    {
     "ename": "Exception",
     "evalue": "invalid_grant",
     "output_type": "error",
     "traceback": [
      "\u001b[1;31m---------------------------------------------------------------------------\u001b[0m",
      "\u001b[1;31mException\u001b[0m                                 Traceback (most recent call last)",
      "\u001b[1;32m<ipython-input-35-df3f5311008f>\u001b[0m in \u001b[0;36m<module>\u001b[1;34m()\u001b[0m\n\u001b[1;32m----> 1\u001b[1;33m \u001b[0mclient\u001b[0m\u001b[1;33m.\u001b[0m\u001b[0mauth_provider\u001b[0m\u001b[1;33m.\u001b[0m\u001b[0mauthenticate\u001b[0m\u001b[1;33m(\u001b[0m\u001b[0mcode\u001b[0m\u001b[1;33m,\u001b[0m \u001b[0mredirect_uri\u001b[0m\u001b[1;33m,\u001b[0m \u001b[0mclient_secret\u001b[0m\u001b[1;33m)\u001b[0m\u001b[1;33m\u001b[0m\u001b[0m\n\u001b[0m",
      "\u001b[1;32mC:\\Users\\airja\\Anaconda3\\lib\\site-packages\\onedrivesdk\\auth_provider.py\u001b[0m in \u001b[0;36mauthenticate\u001b[1;34m(self, code, redirect_uri, client_secret)\u001b[0m\n\u001b[0;32m    161\u001b[0m                                             \u001b[0mheaders\u001b[0m\u001b[1;33m=\u001b[0m\u001b[0mheaders\u001b[0m\u001b[1;33m,\u001b[0m\u001b[1;33m\u001b[0m\u001b[0m\n\u001b[0;32m    162\u001b[0m                                             \u001b[0murl\u001b[0m\u001b[1;33m=\u001b[0m\u001b[0mself\u001b[0m\u001b[1;33m.\u001b[0m\u001b[0mAUTH_TOKEN_URL\u001b[0m\u001b[1;33m,\u001b[0m\u001b[1;33m\u001b[0m\u001b[0m\n\u001b[1;32m--> 163\u001b[1;33m                                             data=params)\n\u001b[0m\u001b[0;32m    164\u001b[0m \u001b[1;33m\u001b[0m\u001b[0m\n\u001b[0;32m    165\u001b[0m         \u001b[0mrcont\u001b[0m \u001b[1;33m=\u001b[0m \u001b[0mjson\u001b[0m\u001b[1;33m.\u001b[0m\u001b[0mloads\u001b[0m\u001b[1;33m(\u001b[0m\u001b[0mresponse\u001b[0m\u001b[1;33m.\u001b[0m\u001b[0mcontent\u001b[0m\u001b[1;33m)\u001b[0m\u001b[1;33m\u001b[0m\u001b[0m\n",
      "\u001b[1;32mC:\\Users\\airja\\Anaconda3\\lib\\site-packages\\onedrivesdk\\http_provider.py\u001b[0m in \u001b[0;36msend\u001b[1;34m(self, method, headers, url, data, content, path)\u001b[0m\n\u001b[0;32m     69\u001b[0m             \u001b[0mresponse\u001b[0m \u001b[1;33m=\u001b[0m \u001b[0msession\u001b[0m\u001b[1;33m.\u001b[0m\u001b[0msend\u001b[0m\u001b[1;33m(\u001b[0m\u001b[0mprepped\u001b[0m\u001b[1;33m)\u001b[0m\u001b[1;33m\u001b[0m\u001b[0m\n\u001b[0;32m     70\u001b[0m \u001b[1;33m\u001b[0m\u001b[0m\n\u001b[1;32m---> 71\u001b[1;33m         \u001b[0mcustom_response\u001b[0m \u001b[1;33m=\u001b[0m \u001b[0mHttpResponse\u001b[0m\u001b[1;33m(\u001b[0m\u001b[0mresponse\u001b[0m\u001b[1;33m.\u001b[0m\u001b[0mstatus_code\u001b[0m\u001b[1;33m,\u001b[0m \u001b[0mresponse\u001b[0m\u001b[1;33m.\u001b[0m\u001b[0mheaders\u001b[0m\u001b[1;33m,\u001b[0m \u001b[0mresponse\u001b[0m\u001b[1;33m.\u001b[0m\u001b[0mtext\u001b[0m\u001b[1;33m)\u001b[0m\u001b[1;33m\u001b[0m\u001b[0m\n\u001b[0m\u001b[0;32m     72\u001b[0m         \u001b[1;32mreturn\u001b[0m \u001b[0mcustom_response\u001b[0m\u001b[1;33m\u001b[0m\u001b[0m\n\u001b[0;32m     73\u001b[0m \u001b[1;33m\u001b[0m\u001b[0m\n",
      "\u001b[1;32mC:\\Users\\airja\\Anaconda3\\lib\\site-packages\\onedrivesdk\\http_response.py\u001b[0m in \u001b[0;36m__init__\u001b[1;34m(self, status, headers, content)\u001b[0m\n\u001b[0;32m     49\u001b[0m                     \u001b[1;32mraise\u001b[0m \u001b[0mOneDriveError\u001b[0m\u001b[1;33m(\u001b[0m\u001b[0mmessage\u001b[0m\u001b[1;33m[\u001b[0m\u001b[1;34m\"error\"\u001b[0m\u001b[1;33m]\u001b[0m\u001b[1;33m,\u001b[0m \u001b[0mself\u001b[0m\u001b[1;33m.\u001b[0m\u001b[0mstatus\u001b[0m\u001b[1;33m)\u001b[0m\u001b[1;33m\u001b[0m\u001b[0m\n\u001b[0;32m     50\u001b[0m                 \u001b[1;32melse\u001b[0m\u001b[1;33m:\u001b[0m\u001b[1;33m\u001b[0m\u001b[0m\n\u001b[1;32m---> 51\u001b[1;33m                     \u001b[1;32mraise\u001b[0m \u001b[0mException\u001b[0m\u001b[1;33m(\u001b[0m\u001b[0mstr\u001b[0m\u001b[1;33m(\u001b[0m\u001b[0mmessage\u001b[0m\u001b[1;33m[\u001b[0m\u001b[1;34m\"error\"\u001b[0m\u001b[1;33m]\u001b[0m\u001b[1;33m)\u001b[0m\u001b[1;33m)\u001b[0m\u001b[1;33m\u001b[0m\u001b[0m\n\u001b[0m\u001b[0;32m     52\u001b[0m \u001b[1;33m\u001b[0m\u001b[0m\n\u001b[0;32m     53\u001b[0m     \u001b[1;32mdef\u001b[0m \u001b[0m__str__\u001b[0m\u001b[1;33m(\u001b[0m\u001b[0mself\u001b[0m\u001b[1;33m)\u001b[0m\u001b[1;33m:\u001b[0m\u001b[1;33m\u001b[0m\u001b[0m\n",
      "\u001b[1;31mException\u001b[0m: invalid_grant"
     ]
    }
   ],
   "source": [
    "client.auth_provider.authenticate(code, redirect_uri, client_secret)#?"
   ]
  },
  {
   "cell_type": "markdown",
   "metadata": {},
   "source": [
    "onenote의 document폴더를 collection으로 지정"
   ]
  },
  {
   "cell_type": "code",
   "execution_count": 38,
   "metadata": {
    "collapsed": true
   },
   "outputs": [],
   "source": [
    "collection = client.item(drive=\"me\", id=\"root\").children.request().get()"
   ]
  },
  {
   "cell_type": "code",
   "execution_count": 53,
   "metadata": {
    "collapsed": false
   },
   "outputs": [
    {
     "data": {
      "text/plain": [
       "<onedrivesdk.request.children_collection.ChildrenCollectionPage at 0x1d32265ea58>"
      ]
     },
     "execution_count": 53,
     "metadata": {},
     "output_type": "execute_result"
    }
   ],
   "source": [
    "collection "
   ]
  },
  {
   "cell_type": "code",
   "execution_count": 54,
   "metadata": {
    "collapsed": false
   },
   "outputs": [
    {
     "data": {
      "text/plain": [
       "'34C3847DE0E7706C!105'"
      ]
     },
     "execution_count": 54,
     "metadata": {},
     "output_type": "execute_result"
    }
   ],
   "source": [
    "collection[0].id "
   ]
  },
  {
   "cell_type": "code",
   "execution_count": 55,
   "metadata": {
    "collapsed": false
   },
   "outputs": [
    {
     "data": {
      "text/plain": [
       "'Documents'"
      ]
     },
     "execution_count": 55,
     "metadata": {},
     "output_type": "execute_result"
    }
   ],
   "source": [
    "collection[0].name"
   ]
  },
  {
   "cell_type": "markdown",
   "metadata": {},
   "source": [
    "document폴더 탐험하기, 내부파일을 dat로 지정"
   ]
  },
  {
   "cell_type": "code",
   "execution_count": 41,
   "metadata": {
    "collapsed": true
   },
   "outputs": [],
   "source": [
    "dat = client.item(drive=\"me\", id= collection[0].id).children.get()"
   ]
  },
  {
   "cell_type": "markdown",
   "metadata": {},
   "source": [
    "2번쨰 파일을 확인하기"
   ]
  },
  {
   "cell_type": "code",
   "execution_count": 42,
   "metadata": {
    "collapsed": false
   },
   "outputs": [
    {
     "data": {
      "text/plain": [
       "'34C3847DE0E7706C!675'"
      ]
     },
     "execution_count": 42,
     "metadata": {},
     "output_type": "execute_result"
    }
   ],
   "source": [
    "dat[1].id"
   ]
  },
  {
   "cell_type": "code",
   "execution_count": 43,
   "metadata": {
    "collapsed": false
   },
   "outputs": [
    {
     "data": {
      "text/plain": [
       "'강연 160406 mssql'"
      ]
     },
     "execution_count": 43,
     "metadata": {},
     "output_type": "execute_result"
    }
   ],
   "source": [
    "dat[1].name"
   ]
  },
  {
   "cell_type": "markdown",
   "metadata": {},
   "source": [
    "'강연 160406 mssql' 구경하기"
   ]
  },
  {
   "cell_type": "code",
   "execution_count": 19,
   "metadata": {
    "collapsed": true
   },
   "outputs": [],
   "source": [
    "one = client.item(drive=\"me\", id= dat[1].id).children.get() "
   ]
  },
  {
   "cell_type": "code",
   "execution_count": 44,
   "metadata": {
    "collapsed": false
   },
   "outputs": [
    {
     "data": {
      "text/plain": [
       "'34C3847DE0E7706C!677'"
      ]
     },
     "execution_count": 44,
     "metadata": {},
     "output_type": "execute_result"
    }
   ],
   "source": [
    "one[1].id"
   ]
  },
  {
   "cell_type": "code",
   "execution_count": 56,
   "metadata": {
    "collapsed": false
   },
   "outputs": [
    {
     "data": {
      "text/plain": [
       "'전자 필기장 열기.onetoc2'"
      ]
     },
     "execution_count": 56,
     "metadata": {},
     "output_type": "execute_result"
    }
   ],
   "source": [
    "one[1].name"
   ]
  },
  {
   "cell_type": "code",
   "execution_count": 45,
   "metadata": {
    "collapsed": true
   },
   "outputs": [],
   "source": [
    "id_of_file = one[1].id"
   ]
  },
  {
   "cell_type": "markdown",
   "metadata": {},
   "source": [
    "드뎌 아이디 확인 '야호'"
   ]
  },
  {
   "cell_type": "code",
   "execution_count": 23,
   "metadata": {
    "collapsed": false,
    "scrolled": true
   },
   "outputs": [
    {
     "data": {
      "text/plain": [
       "'34C3847DE0E7706C!677'"
      ]
     },
     "execution_count": 23,
     "metadata": {},
     "output_type": "execute_result"
    }
   ],
   "source": [
    "id_of_file"
   ]
  },
  {
   "cell_type": "markdown",
   "metadata": {},
   "source": [
    "콘텐츠 저장경로 확인~~"
   ]
  },
  {
   "cell_type": "code",
   "execution_count": 57,
   "metadata": {
    "collapsed": false,
    "scrolled": true
   },
   "outputs": [
    {
     "data": {
      "text/plain": [
       "'https://api.onedrive.com/v1.0/drives/me/items/34C3847DE0E7706C!677/content'"
      ]
     },
     "execution_count": 57,
     "metadata": {},
     "output_type": "execute_result"
    }
   ],
   "source": [
    "client.item(drive=\"me\", id=id_of_file).content._request_url"
   ]
  },
  {
   "cell_type": "markdown",
   "metadata": {},
   "source": [
    "폴더 지정하여 txt파일로 다운로드"
   ]
  },
  {
   "cell_type": "code",
   "execution_count": 47,
   "metadata": {
    "collapsed": true
   },
   "outputs": [],
   "source": [
    "client.item(drive=\"me\", id=id_of_file).download(\"C:\\\\data\\\\python1128\\\\test2.txt\")"
   ]
  },
  {
   "cell_type": "code",
   "execution_count": 26,
   "metadata": {
    "collapsed": true
   },
   "outputs": [],
   "source": [
    "f = open('C:\\\\data\\\\python1128\\\\test2.txt', 'rb')"
   ]
  },
  {
   "cell_type": "code",
   "execution_count": 48,
   "metadata": {
    "collapsed": true
   },
   "outputs": [],
   "source": [
    "text =f.read()"
   ]
  },
  {
   "cell_type": "code",
   "execution_count": 49,
   "metadata": {
    "collapsed": false
   },
   "outputs": [
    {
     "data": {
      "text/plain": [
       "b''"
      ]
     },
     "execution_count": 49,
     "metadata": {},
     "output_type": "execute_result"
    }
   ],
   "source": [
    "text"
   ]
  },
  {
   "cell_type": "code",
   "execution_count": 29,
   "metadata": {
    "collapsed": false,
    "scrolled": true
   },
   "outputs": [
    {
     "data": {
      "text/plain": [
       "['__call__',\n",
       " '__class__',\n",
       " '__delattr__',\n",
       " '__dir__',\n",
       " '__doc__',\n",
       " '__eq__',\n",
       " '__format__',\n",
       " '__ge__',\n",
       " '__getattribute__',\n",
       " '__gt__',\n",
       " '__hash__',\n",
       " '__init__',\n",
       " '__le__',\n",
       " '__lt__',\n",
       " '__module__',\n",
       " '__name__',\n",
       " '__ne__',\n",
       " '__new__',\n",
       " '__qualname__',\n",
       " '__reduce__',\n",
       " '__reduce_ex__',\n",
       " '__repr__',\n",
       " '__self__',\n",
       " '__setattr__',\n",
       " '__sizeof__',\n",
       " '__str__',\n",
       " '__subclasshook__',\n",
       " '__text_signature__']"
      ]
     },
     "execution_count": 29,
     "metadata": {},
     "output_type": "execute_result"
    }
   ],
   "source": [
    "dir(f.read)"
   ]
  },
  {
   "cell_type": "code",
   "execution_count": 50,
   "metadata": {
    "collapsed": false
   },
   "outputs": [
    {
     "ename": "AttributeError",
     "evalue": "'bytes' object has no attribute 'encode'",
     "output_type": "error",
     "traceback": [
      "\u001b[1;31m---------------------------------------------------------------------------\u001b[0m",
      "\u001b[1;31mAttributeError\u001b[0m                            Traceback (most recent call last)",
      "\u001b[1;32m<ipython-input-50-e7b9857a205c>\u001b[0m in \u001b[0;36m<module>\u001b[1;34m()\u001b[0m\n\u001b[1;32m----> 1\u001b[1;33m \u001b[0mtext\u001b[0m\u001b[1;33m.\u001b[0m\u001b[0mencode\u001b[0m\u001b[1;33m(\u001b[0m\u001b[1;34m'utf-8'\u001b[0m\u001b[1;33m)\u001b[0m\u001b[1;33m\u001b[0m\u001b[0m\n\u001b[0m",
      "\u001b[1;31mAttributeError\u001b[0m: 'bytes' object has no attribute 'encode'"
     ]
    }
   ],
   "source": [
    "text.encode('utf-8')"
   ]
  },
  {
   "cell_type": "code",
   "execution_count": 32,
   "metadata": {
    "collapsed": false
   },
   "outputs": [
    {
     "data": {
      "text/plain": [
       "'bytearray(b\\'\\\\xe4R\\\\\\\\{\\\\x8c\\\\xd8\\\\xa7M\\\\xae\\\\xb1Sx\\\\xd0)\\\\x96\\\\xd3\\\\x8fjD\\\\x90>\\\\x9a8\\\\x0b\\\\xdd\\\\xfaC\\\\xec\\\\xc1\\\\xa0\\\\xfb\\\\xa1\\\\x8fjD\\\\x90>\\\\x9a8\\\\x0b\\\\xdd\\\\xfaC\\\\xec\\\\xc1\\\\xa0\\\\xfb\\\\xa1/\\\\xe9\\\\x8dc\\\\xd4\\\\xa6\\\\xc1K\\\\x9a6\\\\xb3\\\\xfc%\\\\x11\\\\xa5\\\\xb7\\\\x00\\\\x00\\\\x00\\\\x00\\\\xd6\\\\x03B\\\\x00\\\\xfc\\\\x8fjD\\\\x90>\\\\x9a8\\\\x0b\\\\xdd\\\\xfaC\\\\xec\\\\xc1\\\\xa0\\\\xfb\\\\xa18\\\\xfd\\\\xdb\\\\xe4\\\\xc7\\\\xe5\\\\x8b@\\\\xa8\\\\xa1\\\\x0e{B\\\\x1e\\\\x1f_\\\\xac\\\\x02\\\\x00\\\\x0cV\\\\x0cl`\\\\xb1=\\\\xf6{\\\\xafE\\\\x98O\\\\xd2 &\\\\xc5\\\\xfd\\\\x00\\\\x80\\\\x99Q\\\\x9d>\\\\x16\\\\xadlCT\\\\x0c\\\\xaf\\\\r\\\\xf35b\\\\xa6\\\\x01\\\\x00\\\\x00\\\\x00\\\\x00\\\\x00\\\\x00\\\\x00\\\\x0b\\\\xec\\\\x00\\\\xc0*\\\\\\\\]ki\\\\xe7\\\\xa9\\\\xae\\\\x97N\\\\xae\\\\x16\\\\xe0\\\\xb9\\\\x00\\\\xc5\\\\xbc\\\\x88\\\\t\\\\t\\\\x00\\\\x00\\\\xc0*\\\\\\\\]ki\\\\xe7\\\\xa9\\\\xae\\\\x97N\\\\xae\\\\x16\\\\xe0\\\\xb9\\\\x00\\\\xc5\\\\xbc\\\\x88\\\\x03\\\\xa1\\\\x00\\\\x00\\\\xc0*T]ki\\\\xe7\\\\xa9\\\\xae\\\\x97N\\\\xae\\\\x16\\\\xe0\\\\xb9\\\\x00\\\\xc5\\\\xbc\\\\x88\\\\t\\\\t\\\\x00\\\\x00\\\\xc0*T]ki\\\\xe7\\\\xa9\\\\xae\\\\x97N\\\\xae\\\\x16\\\\xe0\\\\xb9\\\\x00\\\\xc5\\\\xbc\\\\x88\\\\x03A\\\\x03\\\\x00u\\\\xf4\\\\x00\\\\xb0\\\\x0e\\\\x00\\\\x00\\\\t\\\\x01\\\\x00\\\\x02\\\\x00\\\\xb0\\\\xa6\\\\x00\\\\x00\\\\xa1\\\\x00\\\\x00\\\\x00\\\\x80\\\\x04\\\\x00\\\\x94\\\\x1d\\\\x00\\\\x1c\\\\xb9\\\\x1c\\\\x00\\\\x14k\\\\x1d\\\\x00\\\\x1c\\\\xbe\\\\x1c\\\\x00\\\\x14\\\\x10\\\\x00\\\\x00\\\\x00+\\\\xee\\\\xeb\\\\xe1\\\\xcf\\\\x98<G\\\\x95\\\\x1d\\\\xc2\\\\xc7\\\\x8cTqv\\\\x01\\\\x00\\\\x00\\\\x00\\\\x16\\\\x00\\\\x00\\\\x00\\\\xc8\\\\xc0 \\\\x009\\\\xc1X\\\\xc1 \\\\x001\\\\x00.\\\\x00o\\\\x00n\\\\x00e\\\\x00\\\\x00\\\\x00\\\\xff\\\\xff\\\\xff\\\\xff\\\\x00\\\\x00\\\\x00\\\\x00\\\\xb0\\\\x0e\\\\x00\\\\x00\\\\t\\\\x01\\\\x00\\\\x02\\\\x00\\\\xb0h\\\\x03\\\\\\\\]ki\\\\xe7\\\\xa9\\\\xae\\\\x97N\\\\xae\\\\x16\\\\xe0\\\\xb9\\\\x00\\\\xc5\\\\xbc\\\\x88\\\\x00A\\\\x01\\\\x00\\\\x00\\\\x80\\\\x0b\\\\x00\\\\x00\\\\x00\\\\x02\\\\x00\\\\xf6\\\\x1c\\\\x00$\\\\xbe\\\\x1c\\\\x00\\\\x14\\\\x01\\\\x00\\\\x00\\\\x00\\\\x95\\\\x95\\\\xaa\\\\x00\\\\x00\\\\x00\\\\x00\\\\x00\\\\x00\\\\x00y\\\\x05\\\\x0cV\\\\x0c\\\\xe1/\\\\x80i\\\\xe7\\\\x15DC\\\\xa2\\\\x92\\\\x01R\\\\x1e\\\\x00O\\\\x08\\\\x80\\\\x99Q\\\\x9d>\\\\x16\\\\xadlCT\\\\x0c\\\\xaf\\\\r\\\\xf35b\\\\xa6\\\\x02\\\\x00\\\\x00\\\\x00\\\\x00\\\\x00\\\\x00\\\\x00\\\\t\\\\xd0$\\\\x0cOEQ\\\\x06\\\\x019\\\\rB\\\\xa5B\\\\xcf\\\\xcbZ\\\\x8a\\\\x08J\\\\x00PD\\\\x0c\\\\xf8\\\\x177J\\\\x14\\\\x1c\\\\xe7I\\\\x95&\\\\x81\\\\xd9B\\\\xde\\\\x17AT]ki\\\\xe7\\\\xa9\\\\xae\\\\x97N\\\\xae\\\\x16\\\\xe0\\\\xb9\\\\x00\\\\xc5\\\\xbc\\\\x88\\\\xc8\"\\\\x0cl`\\\\xb1=\\\\xf6{\\\\xafE\\\\x98O\\\\xd2 &\\\\xc5\\\\xfd\\\\x00\\\\x05\\\\x0cV\\\\x0c\\\\\\'osn\\\\xc4\\\\x1e\\\\xfeM\\\\xb3w\\\\x8c\\\\x8c$\\\\x0f\\\\xea\\\\xaa\\\\x80\\\\x99Q\\\\x9d>\\\\x16\\\\xadlCT\\\\x0c\\\\xaf\\\\r\\\\xf35b\\\\xa6\\\\x03\\\\x00\\\\x00\\\\x00\\\\x00\\\\x00\\\\x00\\\\x00\\\\x07X\"\\\\x0cOEQ\\\\x06\\\\x019\\\\rB\\\\xa5B\\\\xcf\\\\xcbZ\\\\x8a\\\\x08J\\\\x05\\\\x0cV\\\\x0c\\\\x0e\\\\x82\\\\x8b\\\\xb6\\\\xf3\\\\xa2\\\\xdfA\\\\x9d\\\\xae\\\\xe54|\\\\x8b\\\\xe5d\\\\x80\\\\x99Q\\\\x9d>\\\\x16\\\\xadlCT\\\\x0c\\\\xaf\\\\r\\\\xf35b\\\\xa6\\\\x04\\\\x00\\\\x00\\\\x00\\\\x00\\\\x00\\\\x00\\\\x00\\\\x07X$\\\\xe0\\\\t\\\\x8d\\\\x1a\\\\x8a\\\\n\\\\xc4\\\\xa4Q\\\\t;\\\\xd5\\\\x89\\\\xa4:l\\\\xc7\\\\x9b\\\\x05\\\\x0cV\\\\x0c\\\\xab;\\\\x1c\\\\xe2;\\\\xc6\\\\xf4C\\\\x99\\\\xec-O\\\\x1a\\\\xb6\\\\xc6_\\\\x80\\\\x99Q\\\\x9d>\\\\x16\\\\xadlCT\\\\x0c\\\\xaf\\\\r\\\\xf35b\\\\xa6\\\\x05\\\\x00\\\\x00\\\\x00\\\\x00\\\\x00\\\\x00\\\\x00\\\\x05` 8\\\\xfd\\\\xdb\\\\xe4\\\\xc7\\\\xe5\\\\x8b@\\\\xa8\\\\xa1\\\\x0e{B\\\\x1e\\\\x1f_8f\\\\x0c\\\\x9c1Z\\\\x1ak\\\\xc2\\\\xaaA\\\\xb9\\\\xc5\\\\x9b\\\\xd8\\\\xc4N\\\\x07\\\\xd4\\\\x0c\\\\xb9\\\\xfa\\\\xde\\\\x84\\\\xa3\\\\xaa\\\\rJ\\\\xa3\\\\xa8R\\\\x0cw\\\\xacps\\\\x0c\\\\xf3L\\\\x1e\\\\x11\\\\xef\\\\x7f\\\\x87@\\\\xafj\\\\xb9TJ\\\\xcd3M8f\\\\x14\\\\xb9\\\\xfa\\\\xde\\\\x84\\\\xa3\\\\xaa\\\\rJ\\\\xa3\\\\xa8R\\\\x0cw\\\\xacps\\\\x0c\\\\xb9\\\\xfa\\\\xde\\\\x84\\\\xa3\\\\xaa\\\\rJ\\\\xa3\\\\xa8R\\\\x0cw\\\\xacps\\\\x0c4\\\\x9a\\\\xcd\\\\x8chN\\\\xf7K\\\\xa4l\\\\xb8\\\\xe9\"\\\\x01\\\\xaf\\\\xad\\\\x05\\\\x0cV\\\\xfc\\\\x8fjD\\\\x90>\\\\x9a8\\\\x0b\\\\xdd\\\\xfaC\\\\xec\\\\xc1\\\\xa0\\\\xfb\\\\xa1\\\\x80\\\\x99Q\\\\x9d>\\\\x16\\\\xadlCT\\\\x0c\\\\xaf\\\\r\\\\xf35b\\\\xa6\\\\x06\\\\x00\\\\x00\\\\x00\\\\x00\\\\x00\\\\x00\\\\x00\\\\x03p\\\\x98\\\\x0c\\\\xb9\\\\xfa\\\\xde\\\\x84\\\\xa3\\\\xaa\\\\rJ\\\\xa3\\\\xa8R\\\\x0cw\\\\xacps\\\\x0c4\\\\x9a\\\\xcd\\\\x8chN\\\\xf7K\\\\xa4l\\\\xb8\\\\xe9\"\\\\x01\\\\xaf\\\\xad\\\\x0c\\\\\\'osn\\\\xc4\\\\x1e\\\\xfeM\\\\xb3w\\\\x8c\\\\x8c$\\\\x0f\\\\xea\\\\xaa\\\\x80\\\\x8fjD\\\\x90>\\\\x9a8\\\\x0b\\\\xdd\\\\xfaC\\\\xec\\\\xc1\\\\xa0\\\\xfb\\\\xa1\\\\x01\\\\x00\\\\x00\\\\x00\\\\x00\\\\x00\\\\x00\\\\x00p\\\\x98\\\\x0c\\\\xb9\\\\xfa\\\\xde\\\\x84\\\\xa3\\\\xaa\\\\rJ\\\\xa3\\\\xa8R\\\\x0cw\\\\xacps\\\\x0c\\\\xf3L\\\\x1e\\\\x11\\\\xef\\\\x7f\\\\x87@\\\\xafj\\\\xb9TJ\\\\xcd3M\\\\x0c\\\\x0e\\\\x82\\\\x8b\\\\xb6\\\\xf3\\\\xa2\\\\xdfA\\\\x9d\\\\xae\\\\xe54|\\\\x8b\\\\xe5d\\\\x80\\\\x8fjD\\\\x90>\\\\x9a8\\\\x0b\\\\xdd\\\\xfaC\\\\xec\\\\xc1\\\\xa0\\\\xfb\\\\xa1\\\\x02\\\\x00\\\\x00\\\\x00\\\\x00\\\\x00\\\\x00\\\\x00\\\\x88T\\\\x0c\\\\xab;\\\\x1c\\\\xe2;\\\\xc6\\\\xf4C\\\\x99\\\\xec-O\\\\x1a\\\\xb6\\\\xc6_\\\\x80\\\\x8fjD\\\\x90>\\\\x9a8\\\\x0b\\\\xdd\\\\xfaC\\\\xec\\\\xc1\\\\xa0\\\\xfb\\\\xa1\\\\x03\\\\x00\\\\x00\\\\x00\\\\x00\\\\x00\\\\x00\\\\x00hz\\\\xe0\\\\t\\\\x8d\\\\x1a\\\\x8a\\\\n\\\\xc4\\\\xa4Q\\\\t;\\\\xd5\\\\x89\\\\xa4:l\\\\xc7\\\\x9b\\\\xe0\\\\tH\\\\xaf1\\\\xca\\\\xf6nmL\\\\x85\\\\xb8\\\\xa0\\\\xd0\\\\xfci\\\\xc7.\\\\x80\\\\x8fjD\\\\x90>\\\\x9a8\\\\x0b\\\\xdd\\\\xfaC\\\\xec\\\\xc1\\\\xa0\\\\xfb\\\\xa1\\\\x04\\\\x00\\\\x00\\\\x00\\\\x00\\\\x00\\\\x00\\\\x00hv\\\\x0cOEQ\\\\x06\\\\x019\\\\rB\\\\xa5B\\\\xcf\\\\xcbZ\\\\x8a\\\\x08J\\\\x0c\\\\xe1/\\\\x80i\\\\xe7\\\\x15DC\\\\xa2\\\\x92\\\\x01R\\\\x1e\\\\x00O\\\\x08\\\\x80\\\\x8fjD\\\\x90>\\\\x9a8\\\\x0b\\\\xdd\\\\xfaC\\\\xec\\\\xc1\\\\xa0\\\\xfb\\\\xa1\\\\x05\\\\x00\\\\x00\\\\x00\\\\x00\\\\x00\\\\x00\\\\x00\\\\x05\\\\x0cX\\\\xe0\\\\tH\\\\xaf1\\\\xca\\\\xf6nmL\\\\x85\\\\xb8\\\\xa0\\\\xd0\\\\xfci\\\\xc7.\\\\x80\\\\x99Q\\\\x9d>\\\\x16\\\\xadlCT\\\\x0c\\\\xaf\\\\r\\\\xf35b\\\\xa6\\\\x07\\\\x00\\\\x00\\\\x00\\\\x00\\\\x00\\\\x00\\\\x00\\\\t\\\\xd0&\\\\xe0\\\\t\\\\x8d\\\\x1a\\\\x8a\\\\n\\\\xc4\\\\xa4Q\\\\t;\\\\xd5\\\\x89\\\\xa4:l\\\\xc7\\\\x9b\\\\x00PD\\\\x0c\\\\xf8\\\\x177J\\\\x14\\\\x1c\\\\xe7I\\\\x95&\\\\x81\\\\xd9B\\\\xde\\\\x17A\\\\x0c\\\\x1a\\\\x0bv\\\\xb4\\\\xdf\\\\xfb\\\\xe3J\\\\x9d\\\\x08S!\\\\x9d\\\\x8a\\\\x8d!\\\\xc8*\\\\x80|7\\\\xca,\\\\x03\\\\xcc\\\\x91J\\\\x98\\\\xa9\\\\x8d\\\\x1d*dTU\\\\\\'\\\\x00\\\\x00\\\\x80\\\\x05\\\\x0c^\\\\x80|7\\\\xca,\\\\x03\\\\xcc\\\\x91J\\\\x98\\\\xa9\\\\x8d\\\\x1d*dTU\\\\\\'\\\\x00\\\\x00\\\\x80\\\\x80\\\\x99Q\\\\x9d>\\\\x16\\\\xadlCT\\\\x0c\\\\xaf\\\\r\\\\xf35b\\\\xa6\\\\x08\\\\x00\\\\x00\\\\x00\\\\x00\\\\x00\\\\x00\\\\x00\\\\x0b\\\\xec\\\\x00\\\\xc0*\\\\x0c\\\\x1a\\\\x0bv\\\\xb4\\\\xdf\\\\xfb\\\\xe3J\\\\x9d\\\\x08S!\\\\x9d\\\\x8a\\\\x8d!\\\\x03\\\\x8d\\\\x00\\\\x00u\\\\xf4\\\\x00\\\\xb0\\\\x92\\\\x00\\\\x00\\\\x8d\\\\x00\\\\x00\\\\x00\\\\x80\\\\x04\\\\x00\\\\x94\\\\x1d\\\\x00\\\\x1c\\\\x95\\\\x1d\\\\x00\\\\x1c\\\\x93\\\\x1d\\\\x00\\\\x14\\\\x99\\\\x1d\\\\x00\\\\x14\\\\x10\\\\x00\\\\x00\\\\x00\\\\xa2g\\\\xbc\\\\xff\\\\xa3UaA\\\\x92\\\\x16\\\\xe1\\\\\\\\\\\\t\\\\x06\\\\xed\\\\x92\\\\x10\\\\x00\\\\x00\\\\x00\\\\x00\\\\x00\\\\x00\\\\x00\\\\x00\\\\x00\\\\x00\\\\x00\\\\x00\\\\x00\\\\x00\\\\x00\\\\x00\\\\x00\\\\x00\\\\x00\\\\x00\\\\x00\\\\x00\\\\x00\\\\\\'\\\\x00\\\\x00\\\\x00y\\\\x05U\\\\xeb\\\\x01\\\\x00\\\\x00\\\\x00\\\\x00\\\\x00\\\\x00\\\\x00\\\\x00\\\\x00\\\\x00\\\\x00\\\\x00\\\\x00\\\\x00\\\\x00\\\\x00\\\\x00\\\\x00\\\\x00\\\\x00\\\\x00\\\\x00\\\\x00\\\\x00\\\\x00\\\\x00\\\\x00\\\\x00\\\\x00\\\\x00\\\\x00\\\\x00\\\\x00\\\\x00\\\\x00\\\\x00\\\\x00\\\\x00\\\\x00\\\\x00\\\\x00\\\\x00\\\\x00\\\\x00\\\\x00\\\\x00\\\\x00\\\\x00\\\\x00\\\\x00\\\\x00\\\\x00\\\\x00\\\\x00\\\\x00\\\\x00\\\\x00\\\\x00\\\\x00\\\\x00\\\\x00\\\\x00\\\\x00\\\\x00\\\\x00\\\\x00\\\\x00\\\\x00\\\\x00\\\\x00\\\\x00\\\\x00\\\\x00\\\\x00\\\\x00\\\\x00\\\\x00\\\\x00\\\\x00\\\\x00\\\\x00\\\\x00\\\\x00\\\\x00\\\\x00\\\\x00\\\\x00\\\\x00\\\\x00\\\\x00\\\\x00\\\\x00\\\\x00\\\\x00\\\\x00\\\\x00\\\\x00\\\\x00\\\\x00\\\\x00\\\\x00\\\\x00\\\\x00\\\\x00\\\\x00\\\\x00\\\\x00\\\\x00\\\\x00\\\\x00\\\\x00\\\\x00\\\\x00\\\\x00\\\\x00\\\\x00\\\\x00\\\\x00\\\\x00\\\\x00\\\\x00\\\\x00\\\\x00\\\\x00\\\\x00\\\\x00\\\\x00\\\\x00\\\\x00\\\\x00\\\\x00\\\\x00\\\\x00\\\\x00\\\\x00\\\\x00\\\\x00\\\\x00\\\\x00\\\\x00\\\\x00\\\\x00\\\\x00\\\\x00\\\\x00\\\\x00\\\\x00\\\\x00\\\\x00\\\\x00\\\\x00\\\\x00\\\\x00\\\\x00\\\\x00\\\\x00\\\\x00\\\\x00\\\\x00\\\\x00\\\\x00\\\\x00\\\\x00\\\\x00\\\\x00\\\\x00\\\\x00\\\\x00\\\\x00\\\\x00\\\\x00\\\\x00\\\\x00\\\\x00\\\\x00\\\\x00\\\\x00\\\\x00\\\\x00\\\\x00\\\\x00\\\\x00\\\\x00\\\\x00\\\\x00\\\\x00\\\\x00\\\\x00\\\\x00\\\\x00\\\\x00\\\\x00\\\\x00\\\\x00\\\\x00\\\\x00\\\\x00\\\\x00\\\\x00\\\\x00\\\\x00\\\\x00\\\\x00\\\\x00\\\\x00\\\\x00\\\\x00\\\\x00\\\\x00\\\\x00\\\\x00\\\\x00\\\\x00\\\\x00\\\\x00\\\\x00\\\\x00\\\\x00\\\\x00\\\\x00\\\\x00\\\\x00\\\\x00\\\\x00\\\\x00\\\\x00\\\\x00\\\\x00\\\\x00\\\\x00\\\\x00\\\\x00\\\\x00\\\\x00\\\\x00\\\\x00\\\\x00\\\\x00\\\\x00\\\\x00\\\\x00\\\\x00\\\\x00\\\\x00\\\\x00\\\\x00\\\\x00\\\\x00\\\\x00\\\\x00\\\\x00\\\\x00\\\\x00\\\\x00\\\\x00\\\\x00\\\\x00\\\\x00\\\\x00\\\\x00\\\\x00\\\\x00\\\\x00\\\\x00\\\\x00\\\\x00\\\\x00\\\\x00\\\\x00\\\\x00\\\\x00\\\\x00\\\\x00\\\\x00\\\\x00\\\\x00\\\\x00\\\\x00\\\\x00\\\\x00\\\\x00\\\\x00\\\\x00\\\\x00\\\\x00\\\\x00\\\\x00\\\\x00\\\\x00\\\\x00\\\\x00\\\\x00\\\\x00\\\\x00\\\\x00\\\\x00\\\\x00\\\\x00\\\\x00\\\\x00\\\\x00\\\\x00\\\\x00\\\\x00\\\\x00\\\\x00\\\\x00\\\\x00\\\\x00\\\\x00\\\\x00\\\\x00\\\\x00\\\\x00\\\\x00\\\\x00\\\\x00\\\\x00\\\\x00\\\\x00\\\\x00\\\\x00\\\\x00\\\\x00\\\\x00\\\\x00\\\\x00\\\\x00\\\\x00\\\\x00\\\\x00\\\\x00\\\\x00\\\\x00\\\\x00\\\\x00\\\\x00\\\\x00\\\\x00\\\\x00\\\\x00\\\\x00\\\\x00\\\\x00\\\\x00\\\\x00\\\\x00\\\\x00\\\\x00\\\\x00\\\\x00\\\\x00\\\\x00\\\\x00\\\\x00\\\\x00\\\\x00\\\\x00\\\\x00\\\\x00\\\\x00\\\\x00\\\\x00\\\\x00\\\\x00\\\\x00\\\\x00\\\\x00\\\\x00\\\\x00\\\\x00\\\\x00\\\\x00\\\\x00\\\\x00\\\\x00\\\\x00\\\\x00\\\\x00\\\\x00\\\\x00\\\\x00\\\\x00\\\\x00\\\\x00\\\\x00\\\\x00\\\\x00\\\\x00\\\\x00\\\\x00\\\\x00\\\\x00\\\\x00\\\\x00\\\\x00\\\\x00\\\\x00\\\\x00\\\\x00\\\\x00\\\\x00\\\\x00\\\\x00\\\\x00\\\\x00\\\\x00\\\\x00\\\\x00\\\\x00\\\\x00\\\\x00\\\\x00\\\\x00\\\\x00\\\\x00\\\\x00\\\\x00\\\\x00\\\\x00\\\\x00\\\\x00\\\\x00\\\\x00\\\\x00\\\\x00\\\\x00\\\\x00\\\\x00\\\\x00\\\\x00\\\\x00\\\\x00\\\\x00\\\\x00\\\\x00\\\\x00\\\\x00\\\\x00\\\\x00\\\\x00\\\\x00\\\\x00\\\\x00\\\\x00\\\\x00\\\\x00\\\\x00\\\\x00\\\\x00\\\\x00\\\\x00\\\\x00\\\\x00\\\\x00\\\\x00\\\\x00\\\\x00\\\\x00\\\\x00\\\\x00\\\\x00\\\\x00\\\\x00\\\\x00\\\\x00\\\\x00\\\\x00\\\\x00\\\\x00\\\\x00\\\\x00\\\\x00\\\\x00\\\\x00\\\\x00\\\\x00\\\\x00\\\\x00\\\\x00\\\\x00\\\\x00\\\\x00\\\\x00\\\\x00\\\\x00\\\\x00\\\\x00\\\\x00\\\\x00\\\\x00\\\\x00\\\\x00\\\\x00\\\\x00\\\\x00\\\\x00\\\\x00\\\\x00\\\\x00\\\\x00\\\\x00\\\\x00\\\\x00\\\\x00\\\\x00\\\\x00\\\\x00\\\\x00\\\\x00\\\\x00\\\\x00\\\\x00\\\\x00\\\\x00\\\\x00\\\\x00\\\\x00\\\\x00\\\\x00\\\\x00\\\\x00\\\\x00\\\\x00\\\\x00\\\\x00\\\\x00\\\\x00\\\\x00\\\\x00\\\\x00\\\\x00\\\\x00\\\\x00\\\\x00\\\\x00\\\\x00\\\\x00\\\\x00\\\\x00\\\\x00\\\\x00\\\\x00\\\\x00\\\\x00\\\\x00\\\\x00\\\\x00\\\\x00\\\\x00\\\\x00\\\\x00\\\\x00\\\\x00\\\\x00\\\\x00\\\\x00\\\\x00\\\\x00\\\\x00\\\\x00\\\\x00\\\\x00\\\\x00\\\\x00\\\\x00\\\\x00\\\\x00\\\\x00\\\\x00\\\\x00\\\\x00\\\\x00\\\\x00\\\\x00\\\\x00\\\\x00\\\\x00\\\\x00\\\\x00\\\\x00\\\\x00\\\\x00\\\\x00\\\\x00\\\\x00\\\\x00\\\\x00\\\\x00\\\\x00\\\\x00\\\\x00\\\\x00\\\\x00\\\\x00\\\\x00\\\\x00\\\\x00\\\\x00\\\\x00\\\\x00\\\\x00\\\\x00\\\\x00\\\\x00\\\\x00\\\\x00\\\\x00\\\\x00\\\\x00\\\\x00\\\\x00\\\\x00\\\\x00\\\\x00\\\\x00\\\\x00\\\\x00\\\\x00\\\\x00\\\\x00\\\\x00\\\\x00\\\\x00\\\\x00\\\\x00\\\\x00\\\\x00\\\\x00\\\\x00\\\\x00\\\\x00\\\\x00\\\\x00\\\\x00\\\\x00\\\\x00\\\\x00\\\\x00\\\\x00\\\\x00\\\\x00\\\\x00\\\\x00\\\\x00\\\\x00\\\\x00\\\\x00\\\\x00\\\\x00\\\\x00\\\\x00\\\\x00\\\\x00\\\\x00\\\\x00\\\\x00\\\\x00\\\\x00\\\\x00\\\\x00\\\\x00\\\\x00\\\\x00\\\\x00\\\\x00\\\\x00\\\\x00\\\\x00\\\\x00\\\\x00\\\\x00\\\\x00\\\\x00\\\\x00\\\\x00\\\\x00\\\\x00\\\\x00\\\\x00\\\\x00\\\\x00\\\\x00\\\\x00\\\\x00\\\\x00\\\\x00\\\\x00\\\\x00\\\\x00\\\\x00\\\\x00\\\\x00\\\\x00\\\\x00\\\\x00\\\\x00\\\\x00\\\\x00\\\\x00\\\\x00\\\\x00\\\\x00\\\\x00\\\\x00\\\\x00\\\\x00\\\\x00\\\\x00\\\\x00\\\\x00\\\\x00\\\\x00\\\\x00\\\\x00\\\\x00\\')'"
      ]
     },
     "execution_count": 32,
     "metadata": {},
     "output_type": "execute_result"
    }
   ],
   "source": [
    "str(bytearray(text))"
   ]
  },
  {
   "cell_type": "code",
   "execution_count": 33,
   "metadata": {
    "collapsed": false
   },
   "outputs": [
    {
     "ename": "UnicodeDecodeError",
     "evalue": "'utf-8' codec can't decode byte 0xe4 in position 0: invalid continuation byte",
     "output_type": "error",
     "traceback": [
      "\u001b[1;31m---------------------------------------------------------------------------\u001b[0m",
      "\u001b[1;31mUnicodeDecodeError\u001b[0m                        Traceback (most recent call last)",
      "\u001b[1;32m<ipython-input-33-c308db4ece28>\u001b[0m in \u001b[0;36m<module>\u001b[1;34m()\u001b[0m\n\u001b[1;32m----> 1\u001b[1;33m \u001b[0mstr\u001b[0m\u001b[1;33m(\u001b[0m\u001b[0mtext\u001b[0m\u001b[1;33m,\u001b[0m \u001b[1;34m\"utf-8\"\u001b[0m\u001b[1;33m)\u001b[0m\u001b[1;33m\u001b[0m\u001b[0m\n\u001b[0m",
      "\u001b[1;31mUnicodeDecodeError\u001b[0m: 'utf-8' codec can't decode byte 0xe4 in position 0: invalid continuation byte"
     ]
    }
   ],
   "source": [
    "str(text, \"utf-8\")"
   ]
  },
  {
   "cell_type": "markdown",
   "metadata": {},
   "source": [
    "https://onedrive.live.com/?id=34C3847DE0E7706C%21105&cid=34C3847DE0E7706C"
   ]
  },
  {
   "cell_type": "code",
   "execution_count": null,
   "metadata": {
    "collapsed": true
   },
   "outputs": [],
   "source": []
  }
 ],
 "metadata": {
  "kernelspec": {
   "display_name": "Python 3",
   "language": "python",
   "name": "python3"
  },
  "language_info": {
   "codemirror_mode": {
    "name": "ipython",
    "version": 3
   },
   "file_extension": ".py",
   "mimetype": "text/x-python",
   "name": "python",
   "nbconvert_exporter": "python",
   "pygments_lexer": "ipython3",
   "version": "3.5.0"
  }
 },
 "nbformat": 4,
 "nbformat_minor": 0
}
