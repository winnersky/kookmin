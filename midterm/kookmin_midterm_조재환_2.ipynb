{
 "cells": [
  {
   "cell_type": "markdown",
   "metadata": {},
   "source": [
    "# Python_중간발표\n",
    "### 데이터사이언스학과 M2015228 조재환"
   ]
  },
  {
   "cell_type": "markdown",
   "metadata": {},
   "source": [
    "'key : value' I/O 연습문제"
   ]
  },
  {
   "cell_type": "code",
   "execution_count": 1,
   "metadata": {
    "collapsed": false
   },
   "outputs": [],
   "source": [
    "drinks={\n",
    "    'martini' : {'vodka', 'vermouth'},\n",
    "    'black russian' : {'vodka', 'kahlua'},\n",
    "    'white russian' : {'cream', 'kahlua', 'vodka'},\n",
    "    'manhattan' : {'rye', 'vermouth', 'bitters'},\n",
    "    'screwdriver': {'orange juice', 'vodka'},\n",
    "    'verorange' : {'orange juice', 'vermouth'},\n",
    "    'kahlua milk' : {'kahlua', 'milk'},\n",
    "    'jin tonic' : {'jin', 'tonic water'},\n",
    "    'mojito' : {'rum', 'lime juice'},\n",
    "    'cinderella' : {'orange juice', 'lemon juice','pineapple juice'}\n",
    "    }"
   ]
  },
  {
   "cell_type": "code",
   "execution_count": 2,
   "metadata": {
    "collapsed": false
   },
   "outputs": [
    {
     "name": "stdout",
     "output_type": "stream",
     "text": [
      "what do you want? rum\n",
      "Here are some Recipt:\n",
      "mojito\n"
     ]
    }
   ],
   "source": [
    "inputs = input('what do you want? ')\n",
    "print('Here are some Recipt:')\n",
    "\n",
    "for name, contents in drinks.items():\n",
    "    if inputs in contents:\n",
    "        print(name)"
   ]
  },
  {
   "cell_type": "code",
   "execution_count": 4,
   "metadata": {
    "collapsed": true
   },
   "outputs": [],
   "source": [
    "morse = {\n",
    "    '.-':'A','-...':'B','-.-.':'C','-..':'D','.':'E','..-.':'F',\n",
    "    '--.':'G','....':'H','..':'I','.---':'J','-.-':'K','.-..':'L',\n",
    "    '--':'M','-.':'N','---':'O','.--.':'P','--.-':'Q','.-.':'R',\n",
    "    '...':'S','-':'T','..-':'U','...-':'V','.--':'W','-..-':'X',\n",
    "    '-.--':'Y','--..':'Z', '':' '\n",
    "}"
   ]
  },
  {
   "cell_type": "code",
   "execution_count": 9,
   "metadata": {
    "collapsed": true
   },
   "outputs": [],
   "source": [
    "code = '.... .  ... .-.. . . .--. ...  . .- .-. .-.. -.--'"
   ]
  },
  {
   "cell_type": "markdown",
   "metadata": {},
   "source": [
    "### 이전 제출물"
   ]
  },
  {
   "cell_type": "code",
   "execution_count": 34,
   "metadata": {
    "collapsed": false,
    "scrolled": true
   },
   "outputs": [
    {
     "name": "stdout",
     "output_type": "stream",
     "text": [
      "What's going on? IM LATE\n",
      "['I', 'M', ' ', 'L', 'A', 'T', 'E']\n",
      ".. I    . E .- A -- M - T .-.. L "
     ]
    }
   ],
   "source": [
    "senten = input(\"What's going on? \")\n",
    "senten = \".\".join(senten)\n",
    "senten = senten.split('.')\n",
    "print(senten)\n",
    "\n",
    "for dot, capi in morse.items():\n",
    "    if capi in senten:\n",
    "        print(dot,end=\" \")\n",
    "        #dotted = sorted(morse.get(dot))\n",
    "        #print(sorted(morse.get(dot),reverse=True), end=\" \")        \n",
    "        print(morse.get(dot),end=\" \")"
   ]
  },
  {
   "cell_type": "markdown",
   "metadata": {},
   "source": [
    "##### 이전에 제출한 것은 출력하면 알파벳과 모스부호가 정렬되지 않았습니다. 입력한 문장대로 모스부호를 나타내고 싶었었는데 조금 더 공부하다보니 코드를 만들 수 있어서 다시 한번 제출합니다."
   ]
  },
  {
   "cell_type": "markdown",
   "metadata": {},
   "source": [
    "### 수정"
   ]
  },
  {
   "cell_type": "code",
   "execution_count": 5,
   "metadata": {
    "collapsed": false
   },
   "outputs": [
    {
     "name": "stdout",
     "output_type": "stream",
     "text": [
      "What's going on? HELP ME\n",
      "['H', 'E', 'L', 'P', ' ', 'M', 'E']\n",
      "H = ...., E = ., L = .-.., P = .--.,   = , M = --, E = ., "
     ]
    }
   ],
   "source": [
    "senten = input(\"What's going on? \")  # 모스부호로 나타낼 문장을 입력\n",
    "senten = \".\".join(senten)            # 모스부호의 형태가 '알파벳' : '모스부호'로 되어있어서 입력받은 문장을 \n",
    "                                     # 알파벳 단위로 끊어주기 위해 \".\"join으로 각 단어 사이에 .을 넣습니다.\n",
    "senten = senten.split('.')           # .을 기준으로 단어들을 모두 끊어 줍니다.\n",
    "print(senten)\n",
    "\n",
    "for word in senten:                        # str형태를 for문으로 출력하면 값하나가 그대로 나옵니다.\n",
    "    for dot, capi in morse.items():        # 모스부호의 dictionary를 가져옵니다.\n",
    "        if word in capi:                   # senten안의 word가 모스부호의 알파벳과 같으면\n",
    "            print(capi,\"=\",dot, end=\", \")  # 알파벳에 해당하는 모스부호를 출력합니다."
   ]
  },
  {
   "cell_type": "code",
   "execution_count": 6,
   "metadata": {
    "collapsed": false
   },
   "outputs": [
    {
     "name": "stdout",
     "output_type": "stream",
     "text": [
      "What's going on? HELP ME\n",
      "HELP ME\n",
      "H = ...., E = ., L = .-.., P = .--.,   = , M = --, E = ., "
     ]
    }
   ],
   "source": [
    "senten = input(\"What's going on? \")  # 모스부호로 나타낼 문장을 입력\n",
    "print(senten)\n",
    "\n",
    "for word in senten:                        # str형태를 for문으로 출력하면 값하나가 그대로 나옵니다.\n",
    "    for dot, capi in morse.items():        # 모스부호의 dictionary를 가져옵니다.\n",
    "        if word in capi:                   # senten안의 word가 모스부호의 알파벳과 같으면\n",
    "            print(capi,\"=\",dot, end=\", \")  # 알파벳에 해당하는 모스부호를 출력합니다."
   ]
  },
  {
   "cell_type": "code",
   "execution_count": 20,
   "metadata": {
    "collapsed": false
   },
   "outputs": [
    {
     "data": {
      "text/plain": [
       "'I'"
      ]
     },
     "execution_count": 20,
     "metadata": {},
     "output_type": "execute_result"
    }
   ],
   "source": [
    "sentens = 'IM LATE'\n",
    "sentens[0]"
   ]
  },
  {
   "cell_type": "code",
   "execution_count": 8,
   "metadata": {
    "collapsed": false
   },
   "outputs": [
    {
     "data": {
      "text/plain": [
       "dict_items([('-..', 'D'), ('--.-', 'Q'), ('-.-.', 'C'), ('..', 'I'), ('..-.', 'F'), ('', ' '), ('-.-', 'K'), ('.', 'E'), ('....', 'H'), ('.-', 'A'), ('.--', 'W'), ('...-', 'V'), ('--', 'M'), ('-', 'T'), ('.---', 'J'), ('..-', 'U'), ('-.', 'N'), ('-..-', 'X'), ('--.', 'G'), ('.--.', 'P'), ('--..', 'Z'), ('.-..', 'L'), ('-...', 'B'), ('---', 'O'), ('...', 'S'), ('-.--', 'Y'), ('.-.', 'R')])"
      ]
     },
     "execution_count": 8,
     "metadata": {},
     "output_type": "execute_result"
    }
   ],
   "source": [
    "morse.items()"
   ]
  }
 ],
 "metadata": {
  "kernelspec": {
   "display_name": "Python 3",
   "language": "python",
   "name": "python3"
  },
  "language_info": {
   "codemirror_mode": {
    "name": "ipython",
    "version": 3
   },
   "file_extension": ".py",
   "mimetype": "text/x-python",
   "name": "python",
   "nbconvert_exporter": "python",
   "pygments_lexer": "ipython3",
   "version": "3.5.0"
  }
 },
 "nbformat": 4,
 "nbformat_minor": 0
}
