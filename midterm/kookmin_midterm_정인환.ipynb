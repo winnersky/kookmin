{
 "cells": [
  {
   "cell_type": "markdown",
   "metadata": {},
   "source": [
    "# Python Programming for Data Analysis"
   ]
  },
  {
   "cell_type": "markdown",
   "metadata": {},
   "source": [
    "# 1. 데이터 분석을 위한 환경 구성 (패키지 설치 포함)"
   ]
  },
  {
   "cell_type": "code",
   "execution_count": 1,
   "metadata": {
    "collapsed": false
   },
   "outputs": [
    {
     "name": "stdout",
     "output_type": "stream",
     "text": [
      "\n",
      "Microsoft Windows [Version 10.0.10586]\n"
     ]
    }
   ],
   "source": [
    "# 운영체제\n",
    "!ver"
   ]
  },
  {
   "cell_type": "code",
   "execution_count": 2,
   "metadata": {
    "collapsed": false
   },
   "outputs": [
    {
     "name": "stdout",
     "output_type": "stream",
     "text": [
      " C 드라이브의 볼륨에는 이름이 없습니다.\n",
      " 볼륨 일련 번호: D68D-E2A9\n",
      "\n",
      " C:\\GitHub\\kookmin-1 디렉터리\n",
      "\n",
      "2016-04-23  오전 08:39    <DIR>          .\n",
      "2016-04-23  오전 08:39    <DIR>          ..\n",
      "2016-04-10  오전 12:33                61 .floo\n",
      "2016-04-10  오전 12:33                63 .flooignore\n",
      "2016-04-10  오전 12:33               826 .gitignore\n",
      "2016-04-22  오후 11:18    <DIR>          .ipynb_checkpoints\n",
      "2016-04-16  오후 04:31               801 CRM 노트\n",
      "2016-04-16  오전 09:13               208 globalvar.py\n",
      "2016-04-22  오후 11:48    <DIR>          images\n",
      "2016-04-10  오전 12:33             1,102 LICENSE\n",
      "2016-04-17  오전 12:22    <DIR>          numpy\n",
      "2016-04-23  오전 02:10            22,696 Python 중간 발표_정인환.ipynb\n",
      "2016-04-10  오전 12:33               472 README.md\n",
      "2016-04-10  오전 12:33               481 requirements.txt\n",
      "2016-04-17  오전 12:51    <DIR>          scipy\n",
      "2016-04-10  오전 12:33    <DIR>          source\n",
      "2016-04-23  오전 01:57             3,294 TicTaeToe.py\n",
      "2016-04-10  오전 12:33         1,203,361 w01_data_science.pdf\n",
      "2016-04-10  오전 12:33            21,564 w02_python_primer.ipynb\n",
      "2016-04-10  오전 12:33         4,013,493 w02_python_primer.pdf\n",
      "2016-04-10  오전 12:33           772,863 w03_python_101_git.ipynb\n",
      "2016-04-10  오전 12:33         2,870,682 w03_python_101_git.pdf\n",
      "2016-04-16  오전 09:13           686,274 w04_exercies_indexing&slicing_function.ipynb\n",
      "2016-04-10  오전 12:33           624,792 w04_exercies_indexing&slicing_function.pdf\n",
      "2016-04-16  오전 09:13         3,140,402 w06_scope_package&module.ipynb\n",
      "2016-04-16  오후 10:50         1,989,348 w07_numpy_pandas_primer.ipynb\n",
      "              19개 파일          15,352,783 바이트\n",
      "               7개 디렉터리  237,906,771,968 바이트 남음\n"
     ]
    }
   ],
   "source": [
    "# 현재 위치 및 하위 디렉토리 구조\n",
    "!dir"
   ]
  },
  {
   "cell_type": "code",
   "execution_count": 3,
   "metadata": {
    "collapsed": false
   },
   "outputs": [
    {
     "name": "stdout",
     "output_type": "stream",
     "text": [
      "Python 3.4.4\n"
     ]
    }
   ],
   "source": [
    "# 파이선 버전\n",
    "\n",
    "!python --version"
   ]
  },
  {
   "cell_type": "code",
   "execution_count": 4,
   "metadata": {
    "collapsed": false
   },
   "outputs": [
    {
     "name": "stdout",
     "output_type": "stream",
     "text": [
      "15.0.0\n"
     ]
    }
   ],
   "source": [
    "# 가상환경 버전\n",
    "\n",
    "!virtualenv --version"
   ]
  },
  {
   "cell_type": "code",
   "execution_count": 5,
   "metadata": {
    "collapsed": false
   },
   "outputs": [
    {
     "name": "stdout",
     "output_type": "stream",
     "text": [
      "\n",
      "Pass a name to activate one of the following virtualenvs:\n",
      "==============================================================================\n",
      "kookmin1\n"
     ]
    }
   ],
   "source": [
    "# 존재하는 가상환경 목록\n",
    "\n",
    "!workon"
   ]
  },
  {
   "cell_type": "code",
   "execution_count": 6,
   "metadata": {
    "collapsed": true
   },
   "outputs": [],
   "source": [
    "# 가상환경 kookmin1에 진입\n",
    "# workon kookmin1"
   ]
  },
  {
   "cell_type": "code",
   "execution_count": 6,
   "metadata": {
    "collapsed": false,
    "scrolled": true
   },
   "outputs": [
    {
     "name": "stdout",
     "output_type": "stream",
     "text": [
      "atlas==0.27.0\n",
      "backports-abc==0.4\n",
      "cycler==0.10.0\n",
      "decorator==4.0.9\n",
      "entrypoints==0.2\n",
      "ipykernel==4.3.1\n",
      "ipython==4.1.2\n",
      "ipython-genutils==0.1.0\n",
      "ipywidgets==4.1.1\n",
      "Jinja2==2.8\n",
      "jsonschema==2.5.1\n",
      "jupyter-client==4.2.2\n",
      "jupyter-core==4.1.0\n",
      "MarkupSafe==0.23\n",
      "matplotlib==1.5.1\n",
      "mistune==0.7.2\n",
      "nbconvert==4.2.0\n",
      "nbformat==4.0.1\n",
      "notebook==4.2.0\n",
      "numpy==1.11.0\n",
      "pandas==0.18.0\n",
      "pickleshare==0.7.2\n",
      "Pygments==2.1.3\n",
      "pyparsing==2.1.1\n",
      "python-dateutil==2.5.2\n",
      "pytz==2016.3\n",
      "pyzmq==15.2.0\n",
      "scikit-learn==0.17.1\n",
      "scipy==0.17.0\n",
      "simplegeneric==0.8.1\n",
      "six==1.10.0\n",
      "sklearn==0.0\n",
      "Tempita==0.5.2\n",
      "threadpool==1.3.2\n",
      "tornado==4.3\n",
      "traitlets==4.2.1\n"
     ]
    }
   ],
   "source": [
    "# 가상환경 kookmin1에 설치된 패키지\n",
    "# 데이터 분석 : numpy, pandas\n",
    "# 시각화 : matplotlib\n",
    "\n",
    "!pip freeze"
   ]
  },
  {
   "cell_type": "markdown",
   "metadata": {},
   "source": [
    "# TicTaeToe 게임"
   ]
  },
  {
   "cell_type": "raw",
   "metadata": {},
   "source": [
    "print(\"출처: http://www.practicepython.org\")\n",
    "print(\"==================================\")\n",
    "print(\"가로, 세로, 대각선 방향으로       \")\n",
    "print(\"세점을 먼저 이어 놓으면 이기는    \")\n",
    "print(\"게임으로 사용자(U)와 Computer(C)가\")\n",
    "print(\"번갈아 놓습니다.                  \")\n",
    "print(\"==================================\\n\")"
   ]
  },
  {
   "cell_type": "code",
   "execution_count": 8,
   "metadata": {
    "collapsed": false
   },
   "outputs": [
    {
     "data": {
      "image/png": "[encoded data removed]",
      "text/plain": [
       "<IPython.core.display.Image object>"
      ]
     },
     "execution_count": 8,
     "metadata": {},
     "output_type": "execute_result"
    }
   ],
   "source": [
    "from IPython.display import Image\n",
    "Image(filename='images/TicTaeToe.png')"
   ]
  },
  {
   "cell_type": "markdown",
   "metadata": {
    "collapsed": false
   },
   "source": [
    "TicTaeToe게임을 간단 버젼으로 구현한 것으로 사용자가 먼저 착수하여 승부를 겨루게 됩니다. \n",
    "향후에는 기계학습으로 발전시켜 실력을 키워 보려 합니다."
   ]
  },
  {
   "cell_type": "code",
   "execution_count": null,
   "metadata": {
    "collapsed": false
   },
   "outputs": [
    {
     "name": "stdout",
     "output_type": "stream",
     "text": [
      "출처: http://www.practicepython.org\n",
      "==================================\n",
      "가로, 세로, 대각선 방향으로                   \n",
      "세점을 먼저 이어 놓으면 이기는\n",
      "게임으로 사용자(U)와 Computer(C)가\n",
      "번갈아 놓습니다.\n",
      "==================================\n",
      "\n"
     ]
    }
   ],
   "source": [
    "# %load TicTaeToe.py\n",
    "import sys\n",
    "import random\n",
    "\n",
    "# 게임 방범 설명\n",
    "print(\"출처: http://www.practicepython.org\")\n",
    "print(\"==================================\")\n",
    "print(\"가로, 세로, 대각선 방향으로                   \")\n",
    "print(\"세점을 먼저 이어 놓으면 이기는\")\n",
    "print(\"게임으로 사용자(U)와 Computer(C)가\")\n",
    "print(\"번갈아 놓습니다.\")\n",
    "print(\"==================================\\n\")\n",
    "\n",
    "# 3 x 3 정보를 담기 위한 저장소 선언\n",
    "# 0 은 초기 상태\n",
    "# 1 은 사용자가 선택한 곳\n",
    "# 2 는 컴퓨터가 선택한 곳\n",
    "dim=3\n",
    "list4 = [0,0,0,0,0,0,0,0,0]\n",
    "\n",
    "# 사용자 안내를 위한 박스를 그리고 그 안에 번호 넣기\n",
    "def graph():\n",
    "    k = 1\n",
    "    for i in range(dim+1):\n",
    "        print(\" ---\"*dim)\n",
    "        for j in range(dim):\n",
    "            if (i < dim):\n",
    "                print(\"| \"+str(k), end=\" \")\n",
    "                k = k + 1\n",
    "        if (i != 3):\n",
    "            print(\"|\")\n",
    "\n",
    "# 사용자 또는 컴퓨터가 수를 둘때 마다,\n",
    "# 누가 이겼는지 체크\n",
    "def game_wins(list4):\n",
    "    #print(list4)\n",
    "    for i in range(dim): \n",
    "        #checks to see if you win in a column\n",
    "        if list4[i] == list4[i+3] == list4[i+6] == 1:\n",
    "            print(\"You Won\")\n",
    "        elif list4[i] == list4[i+3] == list4[i+6] == 2:\n",
    "            print(\"You Lost\")\n",
    "        #checks to see if you win in a row\n",
    "        if list4[dim*i] == list4[dim*i+1] == list4[dim*i+2] == 1:\n",
    "            print (\"You Won\")\n",
    "        elif list4[dim*i] == list4[dim*i+1] == list4[dim*i+2] == 2:\n",
    "            print(\"You Lost\")\n",
    "        #checks to see if you win in a diagonal\n",
    "        if list4[0] == list4[4] == list4[8] == 1:\n",
    "            print (\"You Won\")\n",
    "        elif list4[0] == list4[4] == list4[8] == 2:\n",
    "            print(\"You Lost\")\n",
    "        if list4[2] == list4[4] == list4[6] == 1:\n",
    "            print (\"You Won\")\n",
    "        elif list4[2] == list4[4] == list4[6] == 2:\n",
    "            print(\"You Lost\")\n",
    "\n",
    "# 사용자 안내를 위한 박스를 그리고 그 안에 번호 또는 둔 수 표기\n",
    "def graph_pos(list4):\n",
    "    for idx in range(len(list4)):\n",
    "        if (idx % 3 == 0):\n",
    "            print(\" ---\"*dim)\n",
    "        if (list4[idx] == 0):\n",
    "            print(\"| \"+str(idx+1), end=\" \")\n",
    "        elif (list4[idx] == 1):\n",
    "            print(\"| \"+\"U\", end=\" \")\n",
    "        else:\n",
    "            print(\"| \"+\"C\", end=\" \")   \n",
    "        if (idx % 3 == 2):\n",
    "            print(\"|\")\n",
    "    print(\"\\n\")\n",
    "\n",
    "# 게임 시작\n",
    "go = input(\"Play TicTaeToe? Enter, or eXit?\")\n",
    "if (go == 'x' or go == 'X'):\n",
    "    sys.exit(0)\n",
    "graph()\n",
    "print(\"\\n\")\n",
    "\n",
    "while(1):  # 보드게임이 승부가 날때까지 무한 반복\n",
    "        # 빈곳 선택\n",
    "        pos = int(input(\"You : \")) - 1\n",
    "        while (pos < 0 or pos > 8 or list4[pos] != 0):\n",
    "            pos = int(input(\"Again : \")) - 1\n",
    "        list4[pos] = 1\n",
    "         \n",
    "        # 보드를 갱신하여 그리고, 승부 체크\n",
    "        graph_pos(list4)\n",
    "        game_wins(list4)\n",
    "\n",
    "        # 컴퓨터 차례로, 빈곳을 랜덤하게 선택하여 List에 저장\n",
    "        pos = random.randrange(9)\n",
    "        while (list4[pos] != 0):\n",
    "            pos = random.randrange(9)\n",
    "        print(\"Computer : \" + str(pos+1))\n",
    "        list4[pos] = 2\n",
    "        \n",
    "        # 보드를 갱신하여 그리고, 승부 체크\n",
    "        graph_pos(list4)\n",
    "        game_wins(list4)"
   ]
  },
  {
   "cell_type": "markdown",
   "metadata": {},
   "source": [
    "<Note>\n",
    "\n",
    "write/save\n",
    "%%writefile myfile.py\n",
    "\n",
    "write/save cell contents into myfile.py (use -a to append). Another alias: %%file myfile.py\n",
    "run\n",
    "%run myfile.py\n",
    "\n",
    "run myfile.py and output results in the current cell\n",
    "load/import\n",
    "%load myfile.py\n",
    "\n",
    "load \"import\" myfile.py into the current cell\n",
    "for more magic and help\n",
    "%lsmagic\n",
    "\n",
    "list all the other cool cell magic commands.\n",
    "%COMMAND-NAME?\n",
    "\n",
    "for help on how to use a certain command. i.e. %run?"
   ]
  },
  {
   "cell_type": "code",
   "execution_count": null,
   "metadata": {
    "collapsed": true
   },
   "outputs": [],
   "source": []
  }
 ],
 "metadata": {
  "kernelspec": {
   "display_name": "Python 3",
   "language": "python",
   "name": "python3"
  },
  "language_info": {
   "codemirror_mode": {
    "name": "ipython",
    "version": 3
   },
   "file_extension": ".py",
   "mimetype": "text/x-python",
   "name": "python",
   "nbconvert_exporter": "python",
   "pygments_lexer": "ipython3",
   "version": "3.5.0"
  }
 },
 "nbformat": 4,
 "nbformat_minor": 0
}
