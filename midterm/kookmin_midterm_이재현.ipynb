{
 "cells": [
  {
   "cell_type": "markdown",
   "metadata": {},
   "source": [
    "# 중간 발표 내용"
   ]
  },
  {
   "cell_type": "markdown",
   "metadata": {},
   "source": [
    "##  - 문제 소개 : 나의 독서 데이터를 통한 패턴 확인"
   ]
  },
  {
   "cell_type": "markdown",
   "metadata": {},
   "source": [
    "###  - 기획 의도 : 데이터 분석이라는 거창한 주제를 생활 속에서 시작하기."
   ]
  },
  {
   "cell_type": "code",
   "execution_count": 2,
   "metadata": {
    "collapsed": true
   },
   "outputs": [],
   "source": [
    "import pandas as pd\n",
    "import numpy as np\n",
    "from pandas import Series, DataFrame\n",
    "import matplotlib.pyplot as plt # plot 관련\n",
    "import matplotlib.font_manager # font 관련\n",
    "import seaborn as sns # plot 관련\n",
    "from datetime import datetime # 시간 관련"
   ]
  },
  {
   "cell_type": "code",
   "execution_count": 3,
   "metadata": {
    "collapsed": true
   },
   "outputs": [],
   "source": [
    "%matplotlib inline"
   ]
  },
  {
   "cell_type": "code",
   "execution_count": 4,
   "metadata": {
    "collapsed": true
   },
   "outputs": [],
   "source": [
    "book = pd.read_excel('book.xlsx', encoding = \"utf-8\") # 책 읽은 내역 데이터\n",
    "book_times = pd.read_excel('book_times.xlsx') # 책 읽은 시간 내역"
   ]
  },
  {
   "cell_type": "code",
   "execution_count": 5,
   "metadata": {
    "collapsed": false
   },
   "outputs": [
    {
     "data": {
      "text/html": [
       "<div>\n",
       "<table border=\"1\" class=\"dataframe\">\n",
       "  <thead>\n",
       "    <tr style=\"text-align: right;\">\n",
       "      <th></th>\n",
       "      <th>Title</th>\n",
       "      <th>Subtitle</th>\n",
       "      <th>Author</th>\n",
       "      <th>Tranlator</th>\n",
       "      <th>Publisher</th>\n",
       "      <th>Publish Date</th>\n",
       "      <th>Format</th>\n",
       "      <th>Pages</th>\n",
       "      <th>ISBN</th>\n",
       "      <th>Status</th>\n",
       "      <th>...</th>\n",
       "      <th>Category</th>\n",
       "      <th>Started Reading</th>\n",
       "      <th>Finished Reading</th>\n",
       "      <th>Reading Period</th>\n",
       "      <th>Borrowed</th>\n",
       "      <th>Have Weekend</th>\n",
       "      <th>Reading Time</th>\n",
       "      <th>Read Reason</th>\n",
       "      <th>Found Route</th>\n",
       "      <th>Route Category</th>\n",
       "    </tr>\n",
       "  </thead>\n",
       "  <tbody>\n",
       "    <tr>\n",
       "      <th>0</th>\n",
       "      <td>프레임</td>\n",
       "      <td>나를 바꾸는 심리학의 지혜</td>\n",
       "      <td>최인철</td>\n",
       "      <td>NaN</td>\n",
       "      <td>21세기북스</td>\n",
       "      <td>39253</td>\n",
       "      <td>eBook</td>\n",
       "      <td>188</td>\n",
       "      <td>9788950911546</td>\n",
       "      <td>Read</td>\n",
       "      <td>...</td>\n",
       "      <td>자기계발</td>\n",
       "      <td>2015-12-30</td>\n",
       "      <td>2016-01-05</td>\n",
       "      <td>6</td>\n",
       "      <td>N</td>\n",
       "      <td>Y</td>\n",
       "      <td>0</td>\n",
       "      <td>지인추천</td>\n",
       "      <td>NaN</td>\n",
       "      <td>NaN</td>\n",
       "    </tr>\n",
       "    <tr>\n",
       "      <th>1</th>\n",
       "      <td>왜 나는 범죄를 공부하는가</td>\n",
       "      <td>최고의 프로파일러 표창원 박사의 두려움 없는 공부</td>\n",
       "      <td>표창원</td>\n",
       "      <td>NaN</td>\n",
       "      <td>다산북스</td>\n",
       "      <td>2015-03-17 00:00:00</td>\n",
       "      <td>eBook</td>\n",
       "      <td>229</td>\n",
       "      <td>9791130604909</td>\n",
       "      <td>Read</td>\n",
       "      <td>...</td>\n",
       "      <td>자기계발</td>\n",
       "      <td>2016-01-05</td>\n",
       "      <td>2016-01-07</td>\n",
       "      <td>2</td>\n",
       "      <td>N</td>\n",
       "      <td>N</td>\n",
       "      <td>0</td>\n",
       "      <td>검색</td>\n",
       "      <td>정의의적들</td>\n",
       "      <td>TV프로그램</td>\n",
       "    </tr>\n",
       "    <tr>\n",
       "      <th>2</th>\n",
       "      <td>정의의 적들</td>\n",
       "      <td>정의는 때로 천천히, 하지만 반드시 온다</td>\n",
       "      <td>표창원</td>\n",
       "      <td>NaN</td>\n",
       "      <td>한겨레출판</td>\n",
       "      <td>2014-05-19 00:00:00</td>\n",
       "      <td>eBook</td>\n",
       "      <td>312</td>\n",
       "      <td>8984318116</td>\n",
       "      <td>Read</td>\n",
       "      <td>...</td>\n",
       "      <td>사회학</td>\n",
       "      <td>2016-01-08</td>\n",
       "      <td>2016-01-11</td>\n",
       "      <td>3</td>\n",
       "      <td>N</td>\n",
       "      <td>Y</td>\n",
       "      <td>0</td>\n",
       "      <td>검색</td>\n",
       "      <td>정의의적들</td>\n",
       "      <td>TV프로그램</td>\n",
       "    </tr>\n",
       "    <tr>\n",
       "      <th>3</th>\n",
       "      <td>로봇 시대,인간의 일</td>\n",
       "      <td>인공지능 시대를 살아가야 할 이들을 위한 안내서</td>\n",
       "      <td>구본권</td>\n",
       "      <td>NaN</td>\n",
       "      <td>어크로스</td>\n",
       "      <td>2015-12-15 00:00:00</td>\n",
       "      <td>Paperback</td>\n",
       "      <td>342</td>\n",
       "      <td>9788997379767</td>\n",
       "      <td>Read</td>\n",
       "      <td>...</td>\n",
       "      <td>인문일반</td>\n",
       "      <td>2016-01-12</td>\n",
       "      <td>2016-01-14</td>\n",
       "      <td>2</td>\n",
       "      <td>Y</td>\n",
       "      <td>N</td>\n",
       "      <td>0</td>\n",
       "      <td>지인추천</td>\n",
       "      <td>NaN</td>\n",
       "      <td>NaN</td>\n",
       "    </tr>\n",
       "    <tr>\n",
       "      <th>4</th>\n",
       "      <td>숨겨진 심리학</td>\n",
       "      <td>NaN</td>\n",
       "      <td>표창원</td>\n",
       "      <td>NaN</td>\n",
       "      <td>토네이도</td>\n",
       "      <td>2011-04-11 00:00:00</td>\n",
       "      <td>book</td>\n",
       "      <td>226</td>\n",
       "      <td>9788994013343</td>\n",
       "      <td>Read</td>\n",
       "      <td>...</td>\n",
       "      <td>자기계발</td>\n",
       "      <td>2016-01-14</td>\n",
       "      <td>2016-01-18</td>\n",
       "      <td>4</td>\n",
       "      <td>Y</td>\n",
       "      <td>Y</td>\n",
       "      <td>0</td>\n",
       "      <td>검색</td>\n",
       "      <td>정의의적들</td>\n",
       "      <td>TV프로그램</td>\n",
       "    </tr>\n",
       "  </tbody>\n",
       "</table>\n",
       "<p>5 rows × 23 columns</p>\n",
       "</div>"
      ],
      "text/plain": [
       "            Title                     Subtitle Author Tranlator Publisher  \\\n",
       "0             프레임               나를 바꾸는 심리학의 지혜    최인철       NaN    21세기북스   \n",
       "1  왜 나는 범죄를 공부하는가  최고의 프로파일러 표창원 박사의 두려움 없는 공부    표창원       NaN      다산북스   \n",
       "2          정의의 적들       정의는 때로 천천히, 하지만 반드시 온다    표창원       NaN     한겨레출판   \n",
       "3     로봇 시대,인간의 일   인공지능 시대를 살아가야 할 이들을 위한 안내서    구본권       NaN      어크로스   \n",
       "4         숨겨진 심리학                          NaN    표창원       NaN      토네이도   \n",
       "\n",
       "          Publish Date     Format  Pages           ISBN Status  \\\n",
       "0                39253      eBook    188  9788950911546   Read   \n",
       "1  2015-03-17 00:00:00      eBook    229  9791130604909   Read   \n",
       "2  2014-05-19 00:00:00      eBook    312     8984318116   Read   \n",
       "3  2015-12-15 00:00:00  Paperback    342  9788997379767   Read   \n",
       "4  2011-04-11 00:00:00       book    226  9788994013343   Read   \n",
       "\n",
       "        ...        Category  Started Reading  Finished Reading Reading Period  \\\n",
       "0       ...            자기계발       2015-12-30        2016-01-05              6   \n",
       "1       ...            자기계발       2016-01-05        2016-01-07              2   \n",
       "2       ...             사회학       2016-01-08        2016-01-11              3   \n",
       "3       ...            인문일반       2016-01-12        2016-01-14              2   \n",
       "4       ...            자기계발       2016-01-14        2016-01-18              4   \n",
       "\n",
       "  Borrowed Have Weekend  Reading Time Read Reason Found Route  Route Category  \n",
       "0        N            Y             0        지인추천         NaN             NaN  \n",
       "1        N            N             0          검색       정의의적들          TV프로그램  \n",
       "2        N            Y             0          검색       정의의적들          TV프로그램  \n",
       "3        Y            N             0        지인추천         NaN             NaN  \n",
       "4        Y            Y             0          검색       정의의적들          TV프로그램  \n",
       "\n",
       "[5 rows x 23 columns]"
      ]
     },
     "execution_count": 5,
     "metadata": {},
     "output_type": "execute_result"
    }
   ],
   "source": [
    "book.head() # 데이터 내용 확인"
   ]
  },
  {
   "cell_type": "code",
   "execution_count": 6,
   "metadata": {
    "collapsed": false
   },
   "outputs": [
    {
     "data": {
      "text/html": [
       "<div>\n",
       "<table border=\"1\" class=\"dataframe\">\n",
       "  <thead>\n",
       "    <tr style=\"text-align: right;\">\n",
       "      <th></th>\n",
       "      <th>ISBN</th>\n",
       "      <th>Start Read Time</th>\n",
       "      <th>End Read Time</th>\n",
       "      <th>Read Place</th>\n",
       "      <th>Move Place</th>\n",
       "      <th>Not Read Reason</th>\n",
       "      <th>Weekend Yn</th>\n",
       "      <th>Start Page Num</th>\n",
       "      <th>End Page Num</th>\n",
       "    </tr>\n",
       "  </thead>\n",
       "  <tbody>\n",
       "    <tr>\n",
       "      <th>0</th>\n",
       "      <td>9788947540674</td>\n",
       "      <td>2016-03-03 13:10:00</td>\n",
       "      <td>2016-03-03 13:43:00</td>\n",
       "      <td>버스</td>\n",
       "      <td>학교</td>\n",
       "      <td>NaN</td>\n",
       "      <td>1.0</td>\n",
       "      <td>1</td>\n",
       "      <td>38</td>\n",
       "    </tr>\n",
       "    <tr>\n",
       "      <th>1</th>\n",
       "      <td>9788947540674</td>\n",
       "      <td>2016-03-03 21:16:00</td>\n",
       "      <td>2016-03-03 22:13:00</td>\n",
       "      <td>버스</td>\n",
       "      <td>집</td>\n",
       "      <td>NaN</td>\n",
       "      <td>1.0</td>\n",
       "      <td>38</td>\n",
       "      <td>87</td>\n",
       "    </tr>\n",
       "    <tr>\n",
       "      <th>2</th>\n",
       "      <td>9788947540674</td>\n",
       "      <td>2016-03-04 14:10:00</td>\n",
       "      <td>2016-03-04 14:34:00</td>\n",
       "      <td>버스</td>\n",
       "      <td>학교</td>\n",
       "      <td>NaN</td>\n",
       "      <td>1.0</td>\n",
       "      <td>87</td>\n",
       "      <td>112</td>\n",
       "    </tr>\n",
       "    <tr>\n",
       "      <th>3</th>\n",
       "      <td>9788947540674</td>\n",
       "      <td>2016-03-04 18:50:00</td>\n",
       "      <td>2016-03-04 19:45:00</td>\n",
       "      <td>버스</td>\n",
       "      <td>집</td>\n",
       "      <td>NaN</td>\n",
       "      <td>1.0</td>\n",
       "      <td>112</td>\n",
       "      <td>153</td>\n",
       "    </tr>\n",
       "    <tr>\n",
       "      <th>4</th>\n",
       "      <td>9788947540674</td>\n",
       "      <td>2016-03-05 08:13:00</td>\n",
       "      <td>2016-03-05 08:53:00</td>\n",
       "      <td>버스</td>\n",
       "      <td>학교</td>\n",
       "      <td>NaN</td>\n",
       "      <td>1.0</td>\n",
       "      <td>153</td>\n",
       "      <td>187</td>\n",
       "    </tr>\n",
       "  </tbody>\n",
       "</table>\n",
       "</div>"
      ],
      "text/plain": [
       "            ISBN     Start Read Time       End Read Time Read Place  \\\n",
       "0  9788947540674 2016-03-03 13:10:00 2016-03-03 13:43:00         버스   \n",
       "1  9788947540674 2016-03-03 21:16:00 2016-03-03 22:13:00         버스   \n",
       "2  9788947540674 2016-03-04 14:10:00 2016-03-04 14:34:00         버스   \n",
       "3  9788947540674 2016-03-04 18:50:00 2016-03-04 19:45:00         버스   \n",
       "4  9788947540674 2016-03-05 08:13:00 2016-03-05 08:53:00         버스   \n",
       "\n",
       "  Move Place Not Read Reason  Weekend Yn  Start Page Num  End Page Num  \n",
       "0         학교             NaN         1.0               1            38  \n",
       "1          집             NaN         1.0              38            87  \n",
       "2         학교             NaN         1.0              87           112  \n",
       "3          집             NaN         1.0             112           153  \n",
       "4         학교             NaN         1.0             153           187  "
      ]
     },
     "execution_count": 6,
     "metadata": {},
     "output_type": "execute_result"
    }
   ],
   "source": [
    "book_times.head()"
   ]
  },
  {
   "cell_type": "markdown",
   "metadata": {},
   "source": [
    "###### 위와 같이 데이터를 불러와 확인이 가능하지만, 어떤 필드가 있는지 확인 할 경우는 다음과 같은 명령어를 사용"
   ]
  },
  {
   "cell_type": "code",
   "execution_count": 7,
   "metadata": {
    "collapsed": false
   },
   "outputs": [
    {
     "name": "stdout",
     "output_type": "stream",
     "text": [
      "<class 'pandas.core.frame.DataFrame'>\n",
      "RangeIndex: 18 entries, 0 to 17\n",
      "Data columns (total 23 columns):\n",
      "Title               18 non-null object\n",
      "Subtitle            6 non-null object\n",
      "Author              18 non-null object\n",
      "Tranlator           2 non-null object\n",
      "Publisher           14 non-null object\n",
      "Publish Date        18 non-null object\n",
      "Format              18 non-null object\n",
      "Pages               18 non-null int64\n",
      "ISBN                18 non-null int64\n",
      "Status              18 non-null object\n",
      "Rating              18 non-null int64\n",
      "Yes24 Rating        18 non-null int64\n",
      "Tag                 0 non-null float64\n",
      "Category            18 non-null object\n",
      "Started Reading     18 non-null datetime64[ns]\n",
      "Finished Reading    18 non-null datetime64[ns]\n",
      "Reading Period      18 non-null int64\n",
      "Borrowed            18 non-null object\n",
      "Have Weekend        18 non-null object\n",
      "Reading Time        18 non-null int64\n",
      "Read Reason         18 non-null object\n",
      "Found Route         12 non-null object\n",
      "Route Category      12 non-null object\n",
      "dtypes: datetime64[ns](2), float64(1), int64(6), object(14)\n",
      "memory usage: 3.3+ KB\n"
     ]
    }
   ],
   "source": [
    "book.info()"
   ]
  },
  {
   "cell_type": "markdown",
   "metadata": {},
   "source": [
    "###### 데이터에서 변수의 기술통계량을 확인하고 싶을 경우 다음과 같은 명령어 사용. 실행해보면 수치화된 변수만 나타내는 것을 볼 수 있다."
   ]
  },
  {
   "cell_type": "code",
   "execution_count": 8,
   "metadata": {
    "collapsed": false
   },
   "outputs": [
    {
     "data": {
      "text/html": [
       "<div>\n",
       "<table border=\"1\" class=\"dataframe\">\n",
       "  <thead>\n",
       "    <tr style=\"text-align: right;\">\n",
       "      <th></th>\n",
       "      <th>Pages</th>\n",
       "      <th>ISBN</th>\n",
       "      <th>Rating</th>\n",
       "      <th>Yes24 Rating</th>\n",
       "      <th>Tag</th>\n",
       "      <th>Reading Period</th>\n",
       "      <th>Reading Time</th>\n",
       "    </tr>\n",
       "  </thead>\n",
       "  <tbody>\n",
       "    <tr>\n",
       "      <th>count</th>\n",
       "      <td>18.000000</td>\n",
       "      <td>1.800000e+01</td>\n",
       "      <td>18.000000</td>\n",
       "      <td>18.000000</td>\n",
       "      <td>0.0</td>\n",
       "      <td>18.000000</td>\n",
       "      <td>18.000000</td>\n",
       "    </tr>\n",
       "    <tr>\n",
       "      <th>mean</th>\n",
       "      <td>330.166667</td>\n",
       "      <td>8.702916e+12</td>\n",
       "      <td>9.222222</td>\n",
       "      <td>8.333333</td>\n",
       "      <td>NaN</td>\n",
       "      <td>4.611111</td>\n",
       "      <td>80.888889</td>\n",
       "    </tr>\n",
       "    <tr>\n",
       "      <th>std</th>\n",
       "      <td>95.030181</td>\n",
       "      <td>3.162891e+12</td>\n",
       "      <td>1.352799</td>\n",
       "      <td>0.766965</td>\n",
       "      <td>NaN</td>\n",
       "      <td>2.500327</td>\n",
       "      <td>139.697105</td>\n",
       "    </tr>\n",
       "    <tr>\n",
       "      <th>min</th>\n",
       "      <td>188.000000</td>\n",
       "      <td>8.934973e+09</td>\n",
       "      <td>5.000000</td>\n",
       "      <td>8.000000</td>\n",
       "      <td>NaN</td>\n",
       "      <td>1.000000</td>\n",
       "      <td>0.000000</td>\n",
       "    </tr>\n",
       "    <tr>\n",
       "      <th>25%</th>\n",
       "      <td>284.250000</td>\n",
       "      <td>9.788953e+12</td>\n",
       "      <td>8.250000</td>\n",
       "      <td>8.000000</td>\n",
       "      <td>NaN</td>\n",
       "      <td>2.250000</td>\n",
       "      <td>0.000000</td>\n",
       "    </tr>\n",
       "    <tr>\n",
       "      <th>50%</th>\n",
       "      <td>319.500000</td>\n",
       "      <td>9.788994e+12</td>\n",
       "      <td>10.000000</td>\n",
       "      <td>8.000000</td>\n",
       "      <td>NaN</td>\n",
       "      <td>5.000000</td>\n",
       "      <td>0.000000</td>\n",
       "    </tr>\n",
       "    <tr>\n",
       "      <th>75%</th>\n",
       "      <td>360.750000</td>\n",
       "      <td>9.790597e+12</td>\n",
       "      <td>10.000000</td>\n",
       "      <td>8.000000</td>\n",
       "      <td>NaN</td>\n",
       "      <td>6.000000</td>\n",
       "      <td>150.750000</td>\n",
       "    </tr>\n",
       "    <tr>\n",
       "      <th>max</th>\n",
       "      <td>586.000000</td>\n",
       "      <td>9.791196e+12</td>\n",
       "      <td>10.000000</td>\n",
       "      <td>10.000000</td>\n",
       "      <td>NaN</td>\n",
       "      <td>9.000000</td>\n",
       "      <td>398.000000</td>\n",
       "    </tr>\n",
       "  </tbody>\n",
       "</table>\n",
       "</div>"
      ],
      "text/plain": [
       "            Pages          ISBN     Rating  Yes24 Rating  Tag  Reading Period  \\\n",
       "count   18.000000  1.800000e+01  18.000000     18.000000  0.0       18.000000   \n",
       "mean   330.166667  8.702916e+12   9.222222      8.333333  NaN        4.611111   \n",
       "std     95.030181  3.162891e+12   1.352799      0.766965  NaN        2.500327   \n",
       "min    188.000000  8.934973e+09   5.000000      8.000000  NaN        1.000000   \n",
       "25%    284.250000  9.788953e+12   8.250000      8.000000  NaN        2.250000   \n",
       "50%    319.500000  9.788994e+12  10.000000      8.000000  NaN        5.000000   \n",
       "75%    360.750000  9.790597e+12  10.000000      8.000000  NaN        6.000000   \n",
       "max    586.000000  9.791196e+12  10.000000     10.000000  NaN        9.000000   \n",
       "\n",
       "       Reading Time  \n",
       "count     18.000000  \n",
       "mean      80.888889  \n",
       "std      139.697105  \n",
       "min        0.000000  \n",
       "25%        0.000000  \n",
       "50%        0.000000  \n",
       "75%      150.750000  \n",
       "max      398.000000  "
      ]
     },
     "execution_count": 8,
     "metadata": {},
     "output_type": "execute_result"
    }
   ],
   "source": [
    "book.describe()"
   ]
  },
  {
   "cell_type": "markdown",
   "metadata": {},
   "source": [
    "###### 그래프에 한글 표시를 위한 font 확인하기"
   ]
  },
  {
   "cell_type": "code",
   "execution_count": 10,
   "metadata": {
    "collapsed": false
   },
   "outputs": [
    {
     "name": "stdout",
     "output_type": "stream",
     "text": [
      "['Bitstream Vera Serif', 'STIXGeneral', 'STIXGeneral', 'STIXSizeThreeSym', 'STIXSizeTwoSym', 'STIXSizeTwoSym', 'STIXSizeThreeSym', 'cmex10', 'Bitstream Vera Sans Mono', 'STIXSizeOneSym', 'Bitstream Vera Sans', 'Bitstream Vera Serif', 'STIXSizeFiveSym', 'cmr10', 'STIXGeneral', 'Bitstream Vera Sans Mono', 'STIXSizeFourSym', 'Bitstream Vera Sans', 'STIXNonUnicode', 'cmmi10', 'cmb10', 'Bitstream Vera Sans Mono', 'STIXNonUnicode', 'Bitstream Vera Sans', 'cmss10', 'Bitstream Vera Sans Mono', 'cmtt10', 'Bitstream Vera Sans', 'cmsy10', 'STIXNonUnicode', 'STIXSizeOneSym', 'STIXSizeFourSym', 'STIXGeneral', 'STIXNonUnicode', 'Vivaldi', 'ParkAvenue BT', 'Garamond', 'Traditional Arabic', 'Yj TEUNTEUN Bold', 'Haan Cooljazz M', 'Comic Sans MS', 'Century Schoolbook', 'Trebuchet MS', 'EucrosiaUPC', 'Microsoft New Tai Lue', 'Calibri', '??????', 'EucrosiaUPC', 'HYsupB', 'Aparajita', 'SimSun-ExtB', 'Angsana New', 'JasmineUPC', 'Elephant', 'Stencil', 'Haan YHead B', 'Arabic Typesetting', 'Brush Script MT', 'DilleniaUPC', 'Verdana', 'OCR-A BT', 'Matura MT Script Capitals', 'CentSchbook BT', 'HYPost-Medium', 'Garamond', 'HYnamL', 'MGungHeulim', 'HYPost-Light', 'IrisUPC', 'Haan Cooljazz L', 'Harrington', 'HYkanB', 'Haan Sale M', 'Gisha', 'Orator10 BT', 'Simplified Arabic', 'Showcard Gothic', 'Segoe UI', 'Rockwell Condensed', 'Franklin Gothic Medium', 'HYporM', 'Lucida Fax', 'Rockwell', 'Consolas', 'Shruti', 'Arial', 'Tw Cen MT', 'Euphemia', 'Gill Sans MT', 'Eras Bold ITC', 'Goudy Old Style', 'Haan Baekje M', 'Rod', 'Aparajita', 'Lucida Console', 'Segoe Script', 'Maiandra GD', 'Century Gothic', 'MS Outlook', 'MGungJeong', 'Segoe UI', 'Blippo Blk BT', 'Magic R', 'Monotype Corsiva', 'Calibri', 'Gisha', 'Cordia New', '??????', 'HYmprL', 'Wingdings', 'Onyx', 'Lucida Sans', 'Yet R', 'GoudyOlSt BT', 'Curlz MT', 'Microsoft Sans Serif', 'CommercialScript BT', 'Gill Sans MT', 'MS Reference Sans Serif', '????', 'Shonar Bangla', 'Haan YGodic 230', 'CordiaUPC', 'MoolBoran', 'Franklin Gothic Book', 'Microsoft JhengHei', 'Cambria', 'Franklin Gothic Demi', 'Bodoni MT', 'Vrinda', 'Corbel', 'Yj MAEHWA  SemiBold', 'HCR Batang', 'Playbill', 'HYkanB', 'Niagara Solid', 'Latha', 'Century Schoolbook', 'Calibri', 'Century Schoolbook', 'CentSchbook BT', 'Gill Sans Ultra Bold', 'Trebuchet MS', 'Times New Roman', 'HCR Batang Ext', 'Arial', 'Segoe UI Symbol', 'Cooper Blk BT', 'Lao UI', 'Courier New', 'BrowalliaUPC', 'Microsoft YaHei', 'CordiaUPC', 'Century Schoolbook', 'HYbsrB', 'Yj SOSEL SemiBold', 'Old English Text MT', 'Lucida Sans Typewriter', 'Leelawadee', 'Garamond', 'HYHeadLine-Medium', 'Corbel', 'ahn2006-M', 'AmeriGarmnd BT', 'TeamViewer11', 'Eras Medium ITC', 'Agency FB', 'Calibri', 'MSugiHeulim', 'Times New Roman', 'Vladimir Script', 'Bookman Old Style', 'Shonar Bangla', 'Century', 'Palatino Linotype', 'Freestyle Script', 'Ebrima', '??????', 'Cordia New', 'HYsnrL', 'Century Schoolbook', 'Engravers MT', 'Gigi', 'Goudy Old Style', 'Angsana New', 'Matura MT Script Capitals', 'Bodoni MT', '??????', 'Perpetua', '????', 'Consolas', 'BrushScript BT', 'Bodoni Bk BT', 'Elephant', 'FangSong', 'LilyUPC', 'Tahoma', 'Gill Sans Ultra Bold Condensed', 'Georgia', 'KodchiangUPC', 'Microsoft YaHei', '????', 'Vladimir Script', 'Nirmala UI', 'Arial', 'Bernard MT Condensed', 'Niagara Engraved', 'Goudy Old Style', 'Lucida Sans Typewriter', 'Courier New', 'Corbel', 'HCR Batang', 'Brush Script MT', 'HYnamB', 'Imprint MT Shadow', 'Khmer UI', 'Headline R', 'MV Boli', 'Segoe UI', 'Lucida Sans Typewriter', 'GoudyOlSt BT', 'AmeriGarmnd BT', '????', 'Candara', 'HYnamL', 'Perpetua Titling MT', 'LilyUPC', 'Californian FB', 'HYgtrE', 'Utsaah', 'MSugiJeong', 'JasmineUPC', 'Bodoni MT', 'Yj BLOCK Medium', 'Castellar', 'Wingdings 2', 'DilleniaUPC', 'Palace Script MT', 'Haan YHead M', 'Arial Rounded MT Bold', 'Gadugi', 'Andalus', 'CentSchbook BT', 'HYSinMyeongJo-Medium', 'Courier New', 'Latha', 'Maiandra GD', 'Goudy Old Style', 'Swis721 BT', 'HYsupB', 'Raavi', 'Kokila', 'Hobo BT', 'GoudyOlSt BT', 'Vani', 'Plantagenet Cherokee', 'Arial', 'Bell MT', 'Segoe UI', 'Malgun Gothic', 'Baskerville BT', 'Lucida Sans Typewriter', 'Constantia', 'Rockwell', 'Edwardian Script ITC', 'Goudy Stout', 'Broadway', 'Papyrus', 'Malgun Gothic', 'Californian FB', 'BrowalliaUPC', 'Ami R', 'Berlin Sans FB', 'Tw Cen MT', 'KaiTi', 'MJemokGothic', 'HYGraphic-Medium', 'Consolas', 'Leelawadee', 'Vijaya', 'DomCasual BT', 'Yj INITIALPOSITIVE Medium', 'HyhwpEQ', 'HYbdaL', 'CentSchbook BT', 'Estrangelo Edessa', 'Georgia', 'HYwulM', 'CentSchbook BT', 'Miriam', 'Segoe UI', 'Franklin Gothic Demi', 'Cordia New', 'OCR-B-10 BT', 'Vijaya', 'Agency FB', 'MDEasop', 'Ami R', 'Copperplate Gothic Bold', 'MDSol', 'Courier New', 'Baskerville Old Face', 'Comic Sans MS', 'HYwulB', 'Eras Bold ITC', 'Microsoft Uighur', 'HYtbrB', 'DomCasual BT', 'Franklin Gothic Book', 'MDArt', 'FreesiaUPC', 'GoudyOlSt BT', 'Trebuchet MS', 'Eras Light ITC', 'Nirmala UI', 'Gill Sans MT', 'Gill Sans MT Ext Condensed Bold', 'Swis721 BT', 'MBatang', 'Browallia New', 'Lucida Sans Typewriter', 'Showcard Gothic', 'Bookman Old Style', 'HYdnkM', 'Aparajita', 'Iskoola Pota', 'Haan Baekje B', 'FreesiaUPC', 'Microsoft Himalaya', 'Haan Sollip M', 'Mangal', 'YJ BELLA Medium', 'Gadugi', 'Lucida Bright', 'Harrington', 'Bodoni MT', 'Microsoft PhagsPa', 'HYnamB', 'Newtext Bk BT', 'Lucida Handwriting', 'HYbdaM', 'Curlz MT', 'HYcysM', 'Gill Sans Ultra Bold', 'Iskoola Pota', 'Tw Cen MT', 'MSugiJeong', 'Gigi', 'Script MT Bold', 'Lucida Bright', 'Utsaah', 'Calibri', 'Utsaah', 'Baskerville Old Face', 'Arial', 'Eras Demi ITC', 'LilyUPC', 'HYcysM', 'Lucida Sans', 'AngsanaUPC', 'Rockwell Condensed', 'Calisto MT', 'MS Reference Specialty', 'HYmjrE', 'Lucida Sans Typewriter', 'Mistral', 'Berlin Sans FB', 'Cambria', 'GoudyOlSt BT', 'Colonna MT', 'High Tower Text', 'Lucida Bright', 'IrisUPC', 'Gill Sans MT', 'MJemokBatang', 'Goudy Old Style', 'Kokila', 'FrankRuehl', 'HYmprL', 'Bodoni Bd BT', 'Franklin Gothic Book', 'MDotum', 'Haan YGodic 240', 'Raavi', 'Rockwell', 'Tahoma', 'KodchiangUPC', 'Browallia New', 'Pyunji R', 'Haan Baekje M', 'Lucida Sans', 'Wingdings 3', 'Gabriola', 'Californian FB', 'Arial', 'ahn2006-B', 'Verdana', 'BroadwayEngraved BT', 'Trebuchet MS', 'Magneto', 'Perpetua Titling MT', 'Chiller', 'Goudy Stout', 'NewJumja', 'Microsoft Yi Baiti', 'Hobo BT', 'High Tower Text', 'Perpetua Titling MT', 'Rockwell Extra Bold', 'Palace Script MT', 'Tw Cen MT', 'Script MT Bold', 'Palatino Linotype', 'Yj CHMSOOT Bold', '??????', 'Bodoni MT', 'AmeriGarmnd BT', '??????', 'Lucida Sans', 'Yj BUTGOT Light ', 'Vani', 'Britannic Bold', 'Constantia', 'Gautami', 'Imprint MT Shadow', 'Yj WADAG Medium', 'HYbdaL', 'HYgtrE', 'KodchiangUPC', 'HYGothic-Medium', 'Felix Titling', 'Haan Sale M', 'Bodoni MT', 'DFKai-SB', 'BrowalliaUPC', 'Palatino Linotype', 'Informal Roman', 'Tw Cen MT', 'Haansoft Dotum', 'Arial Rounded MT Bold', 'ahn2006-L', 'Haan Cooljazz B', 'MDGaesung', 'Corbel', 'Baskerville BT', '??????', 'Parchment', 'HYsupM', 'BrushScript BT', 'HCR Dotum', 'Microsoft Uighur', 'Poor Richard', 'BrowalliaUPC', 'HYbsrB', '??????', 'FreesiaUPC', 'Informal Roman', 'Agency FB', 'Haettenschweiler', 'Arial', 'Yj BONMOKGAK Medium ', 'HYporM', 'Yj SHANALL Medium ', 'Simplified Arabic Fixed', 'MDotum', 'Gill Sans MT Condensed', 'Book Antiqua', 'Cooper Blk BT', 'Haettenschweiler', 'Aparajita', 'Lucida Sans Typewriter', 'Tunga', 'HYGungSo-Bold', 'Bell MT', 'HYkanM', 'CordiaUPC', 'Kartika', 'Modern No. 20', 'Algerian', 'Footlight MT Light', 'Kunstler Script', 'AmeriGarmnd BT', 'Californian FB', 'Yj INITIALPOSITIVE Medium', 'Onyx', 'Century Schoolbook', 'Consolas', 'Yj DOOLGI Medium', 'FZSong_Superfont', 'Candara', 'HYPost-Light', 'Shonar Bangla', 'Franklin Gothic Demi', 'Bodoni Bk BT', 'Haan YHead M', 'Symbol', 'Perpetua', 'Freehand591 BT', 'Gill Sans MT', 'Centaur', 'Courier10 BT', '??????', 'Century Gothic', 'Newtext Bk BT', 'NewJumja', 'Yj DOOLGI Medium', 'AmeriGarmnd BT', 'Georgia', 'Bodoni MT', '??????', 'Eras Light ITC', 'MDArt', 'Haan Somang M', 'HYgprM', 'Segoe Print', 'Yj BUTGOT Light ', 'Century Schoolbook', 'Times New Roman', 'Juice ITC', 'Bell MT', 'Microsoft Uighur', 'Impact', 'Khmer UI', 'Garamond', 'Copperplate Gothic Bold', 'MGungHeulim', 'Harlow Solid Italic', 'Franklin Gothic Medium', 'Yj MAEHWA  SemiBold', 'Perpetua', 'Courier10 BT', 'Viner Hand ITC', 'Calisto MT', 'Bookman Old Style', 'Freestyle Script', 'Yj GOTGAE Medium', 'Berlin Sans FB Demi', 'Pristina', 'Bauhaus 93', 'Haan Sollip B', 'Kalinga', '??????', 'Franklin Gothic Medium Cond', 'HYkanM', 'Calisto MT', 'Yj WADAG Medium', 'Verdana', 'Jokerman', 'SimHei', 'Berlin Sans FB', 'Book Antiqua', 'Vivaldi', 'HYgprM', 'Bell MT', 'JasmineUPC', 'EucrosiaUPC', 'Miriam Fixed', 'HYGothic-Medium', 'CordiaUPC', 'Franklin Gothic Demi', 'David', 'Blackadder ITC', '??????', 'Orbit-B BT', 'Niagara Engraved', 'MHunmin', 'Times New Roman', 'Bodoni MT', 'Khmer UI', 'Bodoni MT', 'HYtbrB', 'Rage Italic', 'HYMyeongJo-Extra', 'Tunga', 'AngsanaUPC', 'Shruti', 'Marlett', 'Berlin Sans FB', 'DilleniaUPC', 'Bookman Old Style', 'HYMyeongJo-Extra', 'HCR Batang Ext', 'Lucida Sans', 'Aharoni', 'Franklin Gothic Demi Cond', 'Stencil BT', 'Yj NANCHO Medium', 'Gill Sans MT', '??????', 'Cooper Blk BT', 'Franklin Gothic Book', 'Gloucester MT Extra Condensed', 'Gautami', 'Bodoni MT', 'Engravers MT', 'DilleniaUPC', 'David', 'Arial', 'Bodoni Bk BT', 'Liberty BT', 'Candara', 'HYPost-Medium', 'Constantia', 'Bodoni Bd BT', 'Wingdings 2', 'YJ INJANG Medium', '??????', 'Haan Cooljazz B', 'Century Gothic', 'Lucida Sans Unicode', 'Segoe Script', 'Angsana New', 'MS Outlook', '??????', 'Swis721 BT', 'HYSinMyeongJo-Medium', 'Blippo Blk BT', 'Franklin Gothic Medium Cond', 'HYHeadLine-Medium', 'Perpetua Titling MT', 'Franklin Gothic Heavy', 'Lucida Bright', 'MSugiHeulim', 'Juice ITC', 'Yj BLOCK Medium', 'Orbit-B BT', 'Georgia', 'CentSchbook BT', 'Century Gothic', '????', 'MJemokGothic', 'Tempus Sans ITC', 'Lucida Fax', 'Garamond', 'Bodoni MT', 'Mongolian Baiti', 'Yj GABI', 'Pristina', 'Microsoft New Tai Lue', 'DaunPenh', 'Kristen ITC', 'Book Antiqua', 'Tw Cen MT Condensed', 'Bookshelf Symbol 7', 'Candara', 'Century Gothic', 'Franklin Gothic Heavy', 'GoudyOlSt BT', 'Century Gothic', 'HYdnkM', 'Lucida Bright', 'Jokerman', 'MDSol', 'Book Antiqua', 'Yj BACDOO Bold ', 'Bodoni MT', 'HYsanB', 'Mistral', 'MGungJeong', 'Cambria', 'Mangal', 'Old English Text MT', 'LilyUPC', 'Gadugi', 'Lucida Bright', 'Microsoft Tai Le', 'Chiller', 'Verdana', 'Snap ITC', 'Angsana New', 'Algerian', 'CentSchbook BT', 'Vani', 'Bell MT', 'EucrosiaUPC', 'Franklin Gothic Heavy', 'Lucida Calligraphy', 'Bodoni MT', 'Yj DWMMOOGJO', 'JasmineUPC', 'Bookman Old Style', 'Haansoft Batang', 'CommercialScript BT', 'Century Gothic', 'HCR Dotum', 'Bodoni MT', 'Calibri', 'Kokila', 'Ravie', 'Perpetua', 'Liberty BT', 'Palatino Linotype', 'MS Reference Specialty', 'FreesiaUPC', 'Traditional Arabic', 'Shonar Bangla', 'Lucida Fax', 'Levenim MT', 'HYGothic-Extra', 'Goudy Old Style', 'Bookman Old Style', 'Century', 'New Gulim', 'BernhardFashion BT', 'Magic R', 'Agency FB', 'Sakkal Majalla', 'Haansoft Batang', 'AngsanaUPC', 'Californian FB', 'Rockwell', 'Yj SHANALL Medium ', 'Bodoni MT', 'BroadwayEngraved BT', 'AngsanaUPC', 'Segoe Print', 'Bodoni Bk BT', 'HYhaeseo', 'IrisUPC', 'Browallia New', 'Rockwell Condensed', 'Californian FB', 'Yj GOTGAE Medium', 'Wide Latin', 'Tempus Sans ITC', 'Lucida Handwriting', 'HYhaeseo', 'MS Reference Sans Serif', 'Courier10 BT', 'Calisto MT', 'OCR-B-10 BT', '????', 'MBatang', 'Lucida Fax', 'Rockwell', 'Segoe UI', 'Copperplate Gothic Light', 'Narkisim', 'Broadway', 'Bodoni MT', 'Lucida Sans', 'IrisUPC', 'Yj CHMSOOT Bold', 'Tw Cen MT', 'HYbdaM', 'Bradley Hand ITC', 'Gill Sans MT Condensed', 'HYShortSamul-Medium', 'High Tower Text', 'Haan Somang B', 'Cordia New', 'HYGothic-Extra', 'Bodoni MT', 'Haan Sollip B', 'HYnamM', 'Rockwell Condensed', 'Century Gothic', 'Gill Sans MT Ext Condensed Bold', '??????', 'GoudyOlSt BT', 'Yj TEUNTEUN Bold', 'OCR-A BT', 'Webdings', 'Bookman Old Style', 'Gill Sans MT', 'Gill Sans MT', 'Ravie', 'HYwulM', 'Yj GABI', 'Perpetua', 'Lucida Fax', 'Arial', 'HYgsrB', 'Tw Cen MT Condensed', 'Haan Cooljazz M', 'Kokila', 'Arial', 'HYsupM', 'Haan Sollip M', '??????', 'Yet R', 'Eras Demi ITC', 'Tw Cen MT Condensed', 'Lucida Fax', 'KodchiangUPC', 'Kalinga', 'Haan YGodic 240', 'Bauhaus 93', 'Britannic Bold', 'Arial Unicode MS', 'Nirmala UI', 'OCR A Extended', 'Forte', 'Lucida Fax', 'MHunmin', 'Lao UI', 'Papyrus', 'Bradley Hand ITC', 'HYmjrE', 'Nyala', 'Garamond', 'MDAlong', 'Tw Cen MT Condensed Extra Bold', 'Segoe UI', 'HCR Dotum Ext', 'Stencil BT', 'Felix Titling', 'MurrayHill Bd BT', 'AmeriGarmnd BT', 'Haan YGodic 250', 'Tw Cen MT Condensed Extra Bold', 'Blackadder ITC', 'Stencil', 'Lao UI', 'Vrinda', 'OCR A Extended', 'Haan Sale B', 'Sakkal Majalla', 'Rockwell', 'Gadugi', 'Utsaah', 'Ebrima', 'FuturaBlack BT', 'HYPMokGak-Bold', 'Franklin Gothic Heavy', 'Poor Richard', 'Bodoni Bd BT', 'HYGungSo-Bold', 'Simplified Arabic', 'Constantia', 'Kartika', 'Bodoni Bd BT', 'Sylfaen', 'AmeriGarmnd BT', 'Centaur', 'New Gulim', 'Rage Italic', 'Footlight MT Light', 'HCR Batang', 'Bell MT', 'Calisto MT', 'Franklin Gothic Demi Cond', 'HYgsrB', 'Perpetua', 'HYdnkB', 'Microsoft PhagsPa', 'GoudyOlSt BT', 'HYsanB', 'Wide Latin', 'Lucida Fax', 'Century Schoolbook', 'HCR Dotum Ext', 'Book Antiqua', 'Haan YHead L', 'Monotype Corsiva', 'HYsnrL', 'Haan Somang M', 'Playbill', 'Candara', 'HYShortSamul-Medium', 'Lucida Bright', 'AmeriGarmnd BT', 'Bodoni MT', 'Arial', 'Modern No. 20', 'CentSchbook BT', 'Castellar', 'Haan YGodic 250', 'Rockwell', 'Perpetua', 'Arial', 'Lucida Calligraphy', 'Yj DWMMOOGJO', 'Calisto MT', 'Parchment', 'BernhardFashion BT', 'Wingdings 3', 'Yj BACDOO Bold ', 'French Script MT', 'Khmer UI', 'Tw Cen MT Condensed', 'MurrayHill Bd BT', 'HCR Dotum', 'Haan Baekje B', 'Forte', 'Candara', 'Microsoft Tai Le', 'Browallia New', 'Gloucester MT Extra Condensed', 'Courier10 BT', 'Rockwell', 'Berlin Sans FB Demi', 'Haan YGodic 230', 'Freehand591 BT', 'Magneto', 'Arial', 'Bodoni MT', 'Cooper Black', 'Elephant', 'Vani', 'DokChampa', 'HCR Dotum', 'FuturaBlack BT', 'Tw Cen MT', 'Candara', 'Bodoni MT', 'Cooper Black', 'Calisto MT', 'Yj SOSEL SemiBold', 'HYwulB', 'Gabriola', 'Copperplate Gothic Light', 'Tw Cen MT', 'HYPMokGak-Bold', 'Microsoft JhengHei', 'Haan YHead B', 'Swis721 BT', 'Haan Sale B', 'ParkAvenue BT', 'Haan Cooljazz L', 'Haansoft Dotum', 'HYGraphic-Medium', 'Haan YHead L', 'Lucida Sans Typewriter', 'Elephant', 'Segoe UI', 'Kunstler Script', 'Kristen ITC', 'Book Antiqua', 'Orator10 BT', 'Snap ITC', 'Lucida Sans', 'Pyunji R', 'Arial Unicode MS', 'YJ INJANG Medium', 'Colonna MT', 'Bookshelf Symbol 7', 'HCR Batang', 'MT Extra', 'MDAlong', 'Gill Sans Ultra Bold Condensed', 'HYdnkB', 'Book Antiqua', 'Lucida Sans', 'HyhwpEQ', 'Perpetua', 'Bodoni MT', 'Levenim MT', 'French Script MT', 'Yj NANCHO Medium', 'Viner Hand ITC', 'MDGaesung', 'Book Antiqua', 'Bernard MT Condensed', 'Bookman Old Style', 'Edwardian Script ITC', 'HYnamM', 'YJ BELLA Medium', 'Calisto MT', 'Harlow Solid Italic', 'High Tower Text', 'Lucida Bright', 'Rockwell Extra Bold', 'FZSong_Superfont', 'Haan Somang B', 'Eras Medium ITC', 'Bodoni MT', 'Niagara Solid', 'Cooper Blk BT', 'Candara', 'Yj BONMOKGAK Medium ', 'Lao UI', '??????', 'Headline R', 'Nirmala UI', 'MDEasop', 'MJemokBatang']\n"
     ]
    }
   ],
   "source": [
    "print ([f.name for f in matplotlib.font_manager.fontManager.ttflist])  # 그래프에 한글 표시를 위한 코드"
   ]
  },
  {
   "cell_type": "code",
   "execution_count": 11,
   "metadata": {
    "collapsed": true
   },
   "outputs": [],
   "source": [
    "matplotlib.rc('font', family='HCR Dotum') # font 지정"
   ]
  },
  {
   "cell_type": "markdown",
   "metadata": {},
   "source": [
    "###### 카테고리별 책 수 확인"
   ]
  },
  {
   "cell_type": "code",
   "execution_count": 12,
   "metadata": {
    "collapsed": false
   },
   "outputs": [
    {
     "data": {
      "image/png": "[encoded data removed]",
      "text/plain": [
       "<matplotlib.figure.Figure at 0xab0a278>"
      ]
     },
     "metadata": {},
     "output_type": "display_data"
    }
   ],
   "source": [
    "cate_g = sns.factorplot('Category', kind = 'count', data=book,aspect=1.5, palette=\"muted\") # aspect : 축을 늘려줌, palette : 색지정\n",
    "cate_g.fig.suptitle(\"카테고리별 책 수\")\n",
    "cate_g.set_ylabels(\"책 수\")\n",
    "cate_g.fig.subplots_adjust(top=.9)"
   ]
  },
  {
   "cell_type": "markdown",
   "metadata": {},
   "source": [
    "###### 빌린 여부 확인하기"
   ]
  },
  {
   "cell_type": "code",
   "execution_count": 13,
   "metadata": {
    "collapsed": false
   },
   "outputs": [
    {
     "data": {
      "image/png": "[encoded data removed]",
      "text/plain": [
       "<matplotlib.figure.Figure at 0xa9a8550>"
      ]
     },
     "metadata": {},
     "output_type": "display_data"
    }
   ],
   "source": [
    "borrow_g = sns.factorplot('Borrowed', kind = 'count', data=book, aspect = 1.5, palette = \"muted\")\n",
    "borrow_g.fig.suptitle(\"빌림 여부 확인\")\n",
    "borrow_g.set_ylabels(\"책 수\")\n",
    "borrow_g.fig.subplots_adjust(top=.9)"
   ]
  },
  {
   "cell_type": "markdown",
   "metadata": {},
   "source": [
    "###### 읽은 수단 별 책 수 확인"
   ]
  },
  {
   "cell_type": "code",
   "execution_count": 14,
   "metadata": {
    "collapsed": false
   },
   "outputs": [
    {
     "data": {
      "image/png": "[encoded data removed]",
      "text/plain": [
       "<matplotlib.figure.Figure at 0xadb87b8>"
      ]
     },
     "metadata": {},
     "output_type": "display_data"
    }
   ],
   "source": [
    "Format_g = sns.factorplot('Format', kind='count', data=book, aspect=1.5, palette=\"muted\")\n",
    "Format_g.fig.suptitle(\"수단 별 책 수\")\n",
    "Format_g.set_ylabels(\"책 수\")\n",
    "Format_g.fig.subplots_adjust(top=.9)"
   ]
  },
  {
   "cell_type": "markdown",
   "metadata": {},
   "source": [
    "###### 월별 책 수를 확인 하기 위한 데이터 처리"
   ]
  },
  {
   "cell_type": "code",
   "execution_count": 16,
   "metadata": {
    "collapsed": true
   },
   "outputs": [],
   "source": [
    "book['Month'] = book['Started Reading'].dt.month"
   ]
  },
  {
   "cell_type": "code",
   "execution_count": 17,
   "metadata": {
    "collapsed": false
   },
   "outputs": [
    {
     "data": {
      "image/png": "[encoded data removed]",
      "text/plain": [
       "<matplotlib.figure.Figure at 0xae0fba8>"
      ]
     },
     "metadata": {},
     "output_type": "display_data"
    }
   ],
   "source": [
    "Month_g = sns.factorplot('Month', kind='count', data=book, aspect=1.5, palette = 'muted')\n",
    "Month_g.fig.suptitle(\"월별 읽은 책 수\")\n",
    "Month_g.set_ylabels(\"책 수\")\n",
    "Month_g.fig.subplots_adjust(top=.9)"
   ]
  },
  {
   "cell_type": "markdown",
   "metadata": {},
   "source": [
    "###### 주말을 포함해서 읽은 경우 확인"
   ]
  },
  {
   "cell_type": "code",
   "execution_count": 18,
   "metadata": {
    "collapsed": false
   },
   "outputs": [
    {
     "data": {
      "image/png": "[encoded data removed]",
      "text/plain": [
       "<matplotlib.figure.Figure at 0xaecd7b8>"
      ]
     },
     "metadata": {},
     "output_type": "display_data"
    }
   ],
   "source": [
    "Week_g = sns.factorplot('Have Weekend', kind = 'count', data=book, aspect=1.5, palette = 'muted')\n",
    "Week_g.fig.suptitle(\"주말 넘김 여부에 따른 책 수\")\n",
    "Week_g.set_ylabels(\"책 수\")\n",
    "Week_g.fig.subplots_adjust(top=.9)"
   ]
  },
  {
   "cell_type": "markdown",
   "metadata": {},
   "source": [
    "###### 주말을 넘겼다는 것을 보고 일단, 책이 지루하지 않았나 하고 생각하여 데이터를 두개로 나눔"
   ]
  },
  {
   "cell_type": "code",
   "execution_count": 19,
   "metadata": {
    "collapsed": true
   },
   "outputs": [],
   "source": [
    "Week_df = book[book['Have Weekend'] == 'Y' ] # 주말포함\n",
    "No_Week_df = book[book['Have Weekend'] == 'N' ] # 주말제외"
   ]
  },
  {
   "cell_type": "markdown",
   "metadata": {},
   "source": [
    "###### 각 데이터에 대해 확인"
   ]
  },
  {
   "cell_type": "code",
   "execution_count": 20,
   "metadata": {
    "collapsed": false
   },
   "outputs": [
    {
     "data": {
      "image/png": "[encoded data removed]",
      "text/plain": [
       "<matplotlib.figure.Figure at 0xaf387b8>"
      ]
     },
     "metadata": {},
     "output_type": "display_data"
    }
   ],
   "source": [
    "WeekRat_g = sns.factorplot('Rating', kind='count', data= Week_df)\n",
    "WeekRat_g.fig.suptitle(\"별점 별 책 현황(주말)\")\n",
    "WeekRat_g.set_ylabels(\"책 수\")\n",
    "WeekRat_g.fig.subplots_adjust(top=.9)"
   ]
  },
  {
   "cell_type": "code",
   "execution_count": 21,
   "metadata": {
    "collapsed": false
   },
   "outputs": [
    {
     "data": {
      "image/png": "[encoded data removed]",
      "text/plain": [
       "<matplotlib.figure.Figure at 0xafda438>"
      ]
     },
     "metadata": {},
     "output_type": "display_data"
    }
   ],
   "source": [
    "NoWeekRat_g = sns.factorplot('Rating', kind='count', data= No_Week_df)\n",
    "NoWeekRat_g.fig.suptitle(\"별점 별 책 현황(주중)\")\n",
    "NoWeekRat_g.set_ylabels(\"책 수\")\n",
    "NoWeekRat_g.fig.subplots_adjust(top=.9)"
   ]
  },
  {
   "cell_type": "markdown",
   "metadata": {},
   "source": [
    "###### 주말을 넘긴 경우 평점이 대체적으로 고르게 나온것을 확인"
   ]
  },
  {
   "cell_type": "code",
   "execution_count": 22,
   "metadata": {
    "collapsed": false
   },
   "outputs": [
    {
     "data": {
      "text/plain": [
       "검색      8\n",
       "지인추천    4\n",
       "관심      1\n",
       "Name: Read Reason, dtype: int64"
      ]
     },
     "execution_count": 22,
     "metadata": {},
     "output_type": "execute_result"
    }
   ],
   "source": [
    "Week_df['Read Reason'].value_counts()"
   ]
  },
  {
   "cell_type": "code",
   "execution_count": 23,
   "metadata": {
    "collapsed": false
   },
   "outputs": [
    {
     "data": {
      "text/plain": [
       "지인추천    2\n",
       "검색      2\n",
       "관심      1\n",
       "Name: Read Reason, dtype: int64"
      ]
     },
     "execution_count": 23,
     "metadata": {},
     "output_type": "execute_result"
    }
   ],
   "source": [
    "No_Week_df['Read Reason'].value_counts()"
   ]
  },
  {
   "cell_type": "markdown",
   "metadata": {},
   "source": [
    "###### 책 읽은 이유에 대한 빈도수를 확인 했을 때, 내가 검색한 경우가 많았음."
   ]
  },
  {
   "cell_type": "code",
   "execution_count": 24,
   "metadata": {
    "collapsed": true
   },
   "outputs": [],
   "source": [
    "Week_me_df = Week_df[Week_df['Read Reason'] == '검색'] # 주말넘기면서 내가 검색해서 고른 책만 뽑기"
   ]
  },
  {
   "cell_type": "code",
   "execution_count": 25,
   "metadata": {
    "collapsed": false
   },
   "outputs": [
    {
     "data": {
      "image/png": "[encoded data removed]",
      "text/plain": [
       "<matplotlib.figure.Figure at 0xb016940>"
      ]
     },
     "metadata": {},
     "output_type": "display_data"
    }
   ],
   "source": [
    "MeWeekRat_g = sns.factorplot('Rating', kind='count', data= Week_me_df)\n",
    "MeWeekRat_g.fig.suptitle(\"별점 별 책 현황(주말-검색)\")\n",
    "MeWeekRat_g.set_ylabels(\"책 수\")\n",
    "MeWeekRat_g.fig.subplots_adjust(top=.9)"
   ]
  },
  {
   "cell_type": "code",
   "execution_count": 26,
   "metadata": {
    "collapsed": true
   },
   "outputs": [],
   "source": [
    "Week_Not_me = Week_df[Week_df['Read Reason'] != '검색'] # 주말넘기면서 내가 검색안한 것만 뽑기"
   ]
  },
  {
   "cell_type": "code",
   "execution_count": 27,
   "metadata": {
    "collapsed": false
   },
   "outputs": [
    {
     "data": {
      "image/png": "[encoded data removed]",
      "text/plain": [
       "<matplotlib.figure.Figure at 0xc070898>"
      ]
     },
     "metadata": {},
     "output_type": "display_data"
    }
   ],
   "source": [
    "NotMeWeekRat_g = sns.factorplot('Rating', kind='count', data= Week_Not_me)\n",
    "NotMeWeekRat_g.fig.suptitle(\"별점 별 책 현황(주말-검색제외)\")\n",
    "NotMeWeekRat_g.set_ylabels(\"책 수\")\n",
    "NotMeWeekRat_g.fig.subplots_adjust(top=.9)"
   ]
  },
  {
   "cell_type": "markdown",
   "metadata": {},
   "source": [
    "###### 데이터 양이 작긴 하지만, 그래프를 봤을 때 대체적으로 책을 선택하는 것에 있어서 어려움을 느끼는것 같다."
   ]
  },
  {
   "cell_type": "markdown",
   "metadata": {},
   "source": [
    "### 책 읽은 시간 확인"
   ]
  },
  {
   "cell_type": "markdown",
   "metadata": {},
   "source": [
    "###### book_times 데이터를 통한 책읽은 시간과 페이지수의 상관관계를 그래프로 확인"
   ]
  },
  {
   "cell_type": "code",
   "execution_count": 28,
   "metadata": {
    "collapsed": true
   },
   "outputs": [],
   "source": [
    "book_times['Read Page Num'] = book_times['End Page Num'] - book_times['Start Page Num'] # 페이지 수 변수\n",
    "book_times['Spent time'] = ((book_times['End Read Time']- book_times['Start Read Time']).dt.seconds % 3600) // 60 # 읽은 시간 (분)"
   ]
  },
  {
   "cell_type": "code",
   "execution_count": 29,
   "metadata": {
    "collapsed": false
   },
   "outputs": [
    {
     "data": {
      "image/png": "[encoded data removed]",
      "text/plain": [
       "<matplotlib.figure.Figure at 0xc093358>"
      ]
     },
     "metadata": {},
     "output_type": "display_data"
    }
   ],
   "source": [
    "plt.scatter(book_times['Read Page Num'], book_times['Spent time']) # 상관관계 그래프를 위한 scatter plot\n",
    "plt.title('페이지수와 읽은 시간') # plot의 제목\n",
    "plt.xlabel('페이지 수') # xlabel\n",
    "plt.ylabel('읽은 시간(분)') # ylabel\n",
    "plt.xlim(0, book_times['Read Page Num'].max()+20) # x축 범위\n",
    "plt.ylim(0, book_times['Spent time'].max()+10) # y축 범위\n",
    "plt.gca().set_aspect('equal', adjustable='box') "
   ]
  }
 ],
 "metadata": {
  "kernelspec": {
   "display_name": "Python 3",
   "language": "python",
   "name": "python3"
  },
  "language_info": {
   "codemirror_mode": {
    "name": "ipython",
    "version": 3
   },
   "file_extension": ".py",
   "mimetype": "text/x-python",
   "name": "python",
   "nbconvert_exporter": "python",
   "pygments_lexer": "ipython3",
   "version": "3.5.0"
  }
 },
 "nbformat": 4,
 "nbformat_minor": 0
}
