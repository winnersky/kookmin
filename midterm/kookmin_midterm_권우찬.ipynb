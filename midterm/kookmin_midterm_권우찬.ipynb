{
 "cells": [
  {
   "cell_type": "code",
   "execution_count": 12,
   "metadata": {
    "collapsed": false
   },
   "outputs": [
    {
     "name": "stdout",
     "output_type": "stream",
     "text": [
      "27000\n"
     ]
    }
   ],
   "source": [
    "def clock(num):\n",
    "    sec = 0\n",
    "    for h in range(24):\n",
    "        for m in range(60):\n",
    "            if str(num) in str(h) + str(m): # 문자열로 변환한 시간에 해당 숫자가 들어있으면\n",
    "                sec += 60  # sec = sec + 60\n",
    "    return sec\n",
    "\n",
    "print(clock(5))"
   ]
  },
  {
   "cell_type": "code",
   "execution_count": 13,
   "metadata": {
    "collapsed": false
   },
   "outputs": [
    {
     "name": "stdout",
     "output_type": "stream",
     "text": [
      "27000\n"
     ]
    }
   ],
   "source": [
    "sumSec=0    # 초의 총합을 저장할 변수\n",
    "for hour in range(24) :     # 시간\n",
    "    for minute in range(60) :   #분\n",
    "        if '5' in str(hour) or '5' in str(minute) : # 시간이나 분에 3이 들어가면\n",
    "            sumSec += 60            # sec = sec + 60\n",
    "print(sumSec)"
   ]
  }
 ],
 "metadata": {
  "kernelspec": {
   "display_name": "Python 3",
   "language": "python",
   "name": "python3"
  },
  "language_info": {
   "codemirror_mode": {
    "name": "ipython",
    "version": 3
   },
   "file_extension": ".py",
   "mimetype": "text/x-python",
   "name": "python",
   "nbconvert_exporter": "python",
   "pygments_lexer": "ipython3",
   "version": "3.5.0"
  }
 },
 "nbformat": 4,
 "nbformat_minor": 0
}
