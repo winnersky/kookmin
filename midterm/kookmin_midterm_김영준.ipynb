{
 "cells": [
  {
   "cell_type": "markdown",
   "metadata": {},
   "source": [
    "# 팀성향분석"
   ]
  },
  {
   "cell_type": "code",
   "execution_count": 1,
   "metadata": {
    "collapsed": false
   },
   "outputs": [
    {
     "name": "stdout",
     "output_type": "stream",
     "text": [
      "조직력이 강하다\n",
      "공격력이 강하다\n"
     ]
    }
   ],
   "source": [
    "team1 = {\n",
    "    \"forward\": 88,\n",
    "    \"shoot\": 90,\n",
    "    \"pass\": 98,\n",
    "    \"stamina\": 87,\n",
    "    \"body\": 80,\n",
    "    \"defence\": 88,\n",
    "}\n",
    "\n",
    "team2 = {\n",
    "    \"forward\": 92,\n",
    "    \"shoot\": 95,\n",
    "    \"pass\": 93,\n",
    "    \"stamina\": 80,\n",
    "    \"body\": 90,\n",
    "    \"defence\": 77,    \n",
    "}\n",
    "\n",
    "def tendency(score):\n",
    "    if (score.get(\"forward\")+score.get(\"shoot\")) > 180:\n",
    "        print(\"공격력이 강하다\")\n",
    "    elif (score.get(\"pass\")+score.get(\"stamina\")) > 180:\n",
    "        print(\"조직력이 강하다\")\n",
    "    elif (score.get(\"body\")+score.get(\"defence\")) > 180:\n",
    "        print(\"수비력이 강하다\")\n",
    "    else:\n",
    "        print(\"특성이 없다\")\n",
    "\n",
    "tendency(team1)\n",
    "tendency(team2)\n"
   ]
  },
  {
   "cell_type": "markdown",
   "metadata": {},
   "source": [
    "# 팀성적분석(전체, 최근5경기)"
   ]
  },
  {
   "cell_type": "code",
   "execution_count": 2,
   "metadata": {
    "collapsed": false
   },
   "outputs": [
    {
     "data": {
      "text/plain": [
       "(0.4444444444444444, 0.0)"
      ]
     },
     "execution_count": 2,
     "metadata": {},
     "output_type": "execute_result"
    }
   ],
   "source": [
    "team3 = [1, 0, 1, 1, 0, 0, 1, 1, 1]\n",
    "team4 = [0, 1, 1, 0, 1, 0, 1, 0, 0]\n",
    "\n",
    "def score (lst):\n",
    "    s_score = sum(lst) / len(lst)\n",
    "    \n",
    "    for int in (lst[::-5]):\n",
    "        amt = 0\n",
    "        amt += int\n",
    "    \n",
    "    f_score = amt / 5\n",
    "    \n",
    "    return s_score, f_score\n",
    "\n",
    "score(team3)\n",
    "score(team4)\n"
   ]
  }
 ],
 "metadata": {
  "kernelspec": {
   "display_name": "Python 3",
   "language": "python",
   "name": "python3"
  },
  "language_info": {
   "codemirror_mode": {
    "name": "ipython",
    "version": 3
   },
   "file_extension": ".py",
   "mimetype": "text/x-python",
   "name": "python",
   "nbconvert_exporter": "python",
   "pygments_lexer": "ipython3",
   "version": "3.5.0"
  }
 },
 "nbformat": 4,
 "nbformat_minor": 0
}
