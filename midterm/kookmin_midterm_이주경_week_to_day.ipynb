{
 "cells": [
  {
   "cell_type": "markdown",
   "metadata": {},
   "source": [
    "# 주 단위 데이터를 일 단위 데이터로 늘리기"
   ]
  },
  {
   "cell_type": "markdown",
   "metadata": {},
   "source": [
    "네이버 검색 트렌드는 주 단위로 특정 검색어에 대한 검색량을 제공하고 있음"
   ]
  },
  {
   "cell_type": "markdown",
   "metadata": {},
   "source": [
    "주별 검색량을 검색 기간 사이의 최소검색량, 최대검색량을 기준으로 0~100 사이의 수로 scaling하여 보여줌"
   ]
  },
  {
   "cell_type": "markdown",
   "metadata": {},
   "source": [
    "이 주 단위의 데이터를 차후 데이터 분석 프로젝트(종속변수 예측)에서 입력변수로 사용할 때 \n",
    "단순히 한 주의 검색량을 하나의 값으로 일괄적으로 넣기보단"
   ]
  },
  {
   "cell_type": "markdown",
   "metadata": {},
   "source": [
    "한 주와 연속되는 다른 주의 검색량 사이 직선 상에 1일 간격으로 점을 찍어 예측의 정확도를 더 높이고자 일 단위로 가공하고자 함"
   ]
  },
  {
   "cell_type": "markdown",
   "metadata": {},
   "source": [
    "## 주 단위 데이터 만들기"
   ]
  },
  {
   "cell_type": "markdown",
   "metadata": {},
   "source": [
    "주 리스트 만들기"
   ]
  },
  {
   "cell_type": "code",
   "execution_count": 3,
   "metadata": {
    "collapsed": false
   },
   "outputs": [],
   "source": [
    "##1년은 52주로 구성됨\n",
    "week = list(range(1, 53)) #range 함수의 첫 번째 파라매터에는 시작할 숫자, 두 번째 파라매터에는 끝나는 숫자보다 1 큰 수를 넣어줌"
   ]
  },
  {
   "cell_type": "code",
   "execution_count": null,
   "metadata": {
    "collapsed": true
   },
   "outputs": [],
   "source": [
    "week"
   ]
  },
  {
   "cell_type": "code",
   "execution_count": 120,
   "metadata": {
    "collapsed": false
   },
   "outputs": [
    {
     "data": {
      "text/plain": [
       "52"
      ]
     },
     "execution_count": 120,
     "metadata": {},
     "output_type": "execute_result"
    }
   ],
   "source": [
    "len(week)"
   ]
  },
  {
   "cell_type": "markdown",
   "metadata": {},
   "source": [
    "각 주의 대표일 리스트 만들기"
   ]
  },
  {
   "cell_type": "code",
   "execution_count": 103,
   "metadata": {
    "collapsed": true
   },
   "outputs": [],
   "source": [
    "##한 주는 7일로 구성되어 있으므로 첫 번째 주의 가운데 날인 4번째 일을 그 주의 대표값(일)로 표시 (두 번째 주의 대표일은 11일)\n",
    "representative_day = list(range(4, 365, 7))#range의 세 번째 파라매터에는 간격이 들어감"
   ]
  },
  {
   "cell_type": "code",
   "execution_count": null,
   "metadata": {
    "collapsed": true
   },
   "outputs": [],
   "source": [
    "representative_day"
   ]
  },
  {
   "cell_type": "code",
   "execution_count": 119,
   "metadata": {
    "collapsed": false,
    "scrolled": true
   },
   "outputs": [
    {
     "data": {
      "text/plain": [
       "52"
      ]
     },
     "execution_count": 119,
     "metadata": {},
     "output_type": "execute_result"
    }
   ],
   "source": [
    "len(representative_day)"
   ]
  },
  {
   "cell_type": "code",
   "execution_count": 9,
   "metadata": {
    "collapsed": true
   },
   "outputs": [],
   "source": [
    "##나중에 날짜에 대한 기능을 배우면 이 인덱스로 날짜 갖다 붙이기 가능"
   ]
  },
  {
   "cell_type": "markdown",
   "metadata": {},
   "source": [
    "난수생성기"
   ]
  },
  {
   "cell_type": "code",
   "execution_count": 1,
   "metadata": {
    "collapsed": true
   },
   "outputs": [],
   "source": [
    "import random"
   ]
  },
  {
   "cell_type": "code",
   "execution_count": 2,
   "metadata": {
    "collapsed": false
   },
   "outputs": [
    {
     "data": {
      "text/plain": [
       "2"
      ]
     },
     "execution_count": 2,
     "metadata": {},
     "output_type": "execute_result"
    }
   ],
   "source": [
    "random.randint(0, 10) #0~10 사이의 정수 난수 생성(0과 10 포함)"
   ]
  },
  {
   "cell_type": "markdown",
   "metadata": {},
   "source": [
    "난수 생성으로 검색량 리스트 만들기"
   ]
  },
  {
   "cell_type": "code",
   "execution_count": 10,
   "metadata": {
    "collapsed": false
   },
   "outputs": [],
   "source": [
    "search = [] #비어있는 리스트 생성"
   ]
  },
  {
   "cell_type": "code",
   "execution_count": 11,
   "metadata": {
    "collapsed": false
   },
   "outputs": [],
   "source": [
    "## 52주(1년) 동안의 주간 검색량 생성\n",
    "for i in range(0, 52) :\n",
    "    search = search + [random.randint(0, 100)] #검색량 트렌드 데이터가 0~100 사이로 검색량을 나타내므로 0과 100 사이의 숫자 생성"
   ]
  },
  {
   "cell_type": "code",
   "execution_count": null,
   "metadata": {
    "collapsed": true
   },
   "outputs": [],
   "source": [
    "search"
   ]
  },
  {
   "cell_type": "code",
   "execution_count": 118,
   "metadata": {
    "collapsed": false,
    "scrolled": false
   },
   "outputs": [
    {
     "data": {
      "text/plain": [
       "52"
      ]
     },
     "execution_count": 118,
     "metadata": {},
     "output_type": "execute_result"
    }
   ],
   "source": [
    "len(search)"
   ]
  },
  {
   "cell_type": "markdown",
   "metadata": {},
   "source": [
    "## 데이터 프레임 만들기"
   ]
  },
  {
   "cell_type": "code",
   "execution_count": 128,
   "metadata": {
    "collapsed": true
   },
   "outputs": [],
   "source": [
    "from pandas import DataFrame"
   ]
  },
  {
   "cell_type": "code",
   "execution_count": 129,
   "metadata": {
    "collapsed": true
   },
   "outputs": [],
   "source": [
    "###예시\n",
    "#dataframe 2차원같은 자료구조\n",
    "#키는 컬럼 안에 들어가는애들은 리스트형식 으로 하면 예쁜 모양으로 그려짐\n",
    "data = {\n",
    "        'state': ['Ohio', 'Ohio', 'Ohio', 'Nevada', 'Nevada'],\n",
    "        'year': [2000, 2001, 2002, 2001, 2002],\n",
    "       }  #사전객체"
   ]
  },
  {
   "cell_type": "code",
   "execution_count": 130,
   "metadata": {
    "collapsed": false
   },
   "outputs": [],
   "source": [
    "frame = DataFrame(data)"
   ]
  },
  {
   "cell_type": "code",
   "execution_count": 131,
   "metadata": {
    "collapsed": false
   },
   "outputs": [
    {
     "data": {
      "text/html": [
       "<div>\n",
       "<table border=\"1\" class=\"dataframe\">\n",
       "  <thead>\n",
       "    <tr style=\"text-align: right;\">\n",
       "      <th></th>\n",
       "      <th>state</th>\n",
       "      <th>year</th>\n",
       "    </tr>\n",
       "  </thead>\n",
       "  <tbody>\n",
       "    <tr>\n",
       "      <th>0</th>\n",
       "      <td>Ohio</td>\n",
       "      <td>2000</td>\n",
       "    </tr>\n",
       "    <tr>\n",
       "      <th>1</th>\n",
       "      <td>Ohio</td>\n",
       "      <td>2001</td>\n",
       "    </tr>\n",
       "    <tr>\n",
       "      <th>2</th>\n",
       "      <td>Ohio</td>\n",
       "      <td>2002</td>\n",
       "    </tr>\n",
       "    <tr>\n",
       "      <th>3</th>\n",
       "      <td>Nevada</td>\n",
       "      <td>2001</td>\n",
       "    </tr>\n",
       "    <tr>\n",
       "      <th>4</th>\n",
       "      <td>Nevada</td>\n",
       "      <td>2002</td>\n",
       "    </tr>\n",
       "  </tbody>\n",
       "</table>\n",
       "</div>"
      ],
      "text/plain": [
       "    state  year\n",
       "0    Ohio  2000\n",
       "1    Ohio  2001\n",
       "2    Ohio  2002\n",
       "3  Nevada  2001\n",
       "4  Nevada  2002"
      ]
     },
     "execution_count": 131,
     "metadata": {},
     "output_type": "execute_result"
    }
   ],
   "source": [
    "frame"
   ]
  },
  {
   "cell_type": "code",
   "execution_count": 122,
   "metadata": {
    "collapsed": true
   },
   "outputs": [],
   "source": [
    "data = {\n",
    "    'week': week,\n",
    "    'day': representative_day,\n",
    "    'search_volume': search,\n",
    "}"
   ]
  },
  {
   "cell_type": "code",
   "execution_count": 123,
   "metadata": {
    "collapsed": false
   },
   "outputs": [],
   "source": [
    "frame = DataFrame(data)"
   ]
  },
  {
   "cell_type": "code",
   "execution_count": 124,
   "metadata": {
    "collapsed": false
   },
   "outputs": [
    {
     "data": {
      "text/html": [
       "<div>\n",
       "<table border=\"1\" class=\"dataframe\">\n",
       "  <thead>\n",
       "    <tr style=\"text-align: right;\">\n",
       "      <th></th>\n",
       "      <th>day</th>\n",
       "      <th>search_volume</th>\n",
       "      <th>week</th>\n",
       "    </tr>\n",
       "  </thead>\n",
       "  <tbody>\n",
       "    <tr>\n",
       "      <th>0</th>\n",
       "      <td>4</td>\n",
       "      <td>40</td>\n",
       "      <td>1</td>\n",
       "    </tr>\n",
       "    <tr>\n",
       "      <th>1</th>\n",
       "      <td>11</td>\n",
       "      <td>92</td>\n",
       "      <td>2</td>\n",
       "    </tr>\n",
       "    <tr>\n",
       "      <th>2</th>\n",
       "      <td>18</td>\n",
       "      <td>54</td>\n",
       "      <td>3</td>\n",
       "    </tr>\n",
       "    <tr>\n",
       "      <th>3</th>\n",
       "      <td>25</td>\n",
       "      <td>76</td>\n",
       "      <td>4</td>\n",
       "    </tr>\n",
       "    <tr>\n",
       "      <th>4</th>\n",
       "      <td>32</td>\n",
       "      <td>33</td>\n",
       "      <td>5</td>\n",
       "    </tr>\n",
       "    <tr>\n",
       "      <th>5</th>\n",
       "      <td>39</td>\n",
       "      <td>91</td>\n",
       "      <td>6</td>\n",
       "    </tr>\n",
       "    <tr>\n",
       "      <th>6</th>\n",
       "      <td>46</td>\n",
       "      <td>57</td>\n",
       "      <td>7</td>\n",
       "    </tr>\n",
       "    <tr>\n",
       "      <th>7</th>\n",
       "      <td>53</td>\n",
       "      <td>23</td>\n",
       "      <td>8</td>\n",
       "    </tr>\n",
       "    <tr>\n",
       "      <th>8</th>\n",
       "      <td>60</td>\n",
       "      <td>80</td>\n",
       "      <td>9</td>\n",
       "    </tr>\n",
       "    <tr>\n",
       "      <th>9</th>\n",
       "      <td>67</td>\n",
       "      <td>94</td>\n",
       "      <td>10</td>\n",
       "    </tr>\n",
       "    <tr>\n",
       "      <th>10</th>\n",
       "      <td>74</td>\n",
       "      <td>12</td>\n",
       "      <td>11</td>\n",
       "    </tr>\n",
       "    <tr>\n",
       "      <th>11</th>\n",
       "      <td>81</td>\n",
       "      <td>66</td>\n",
       "      <td>12</td>\n",
       "    </tr>\n",
       "    <tr>\n",
       "      <th>12</th>\n",
       "      <td>88</td>\n",
       "      <td>43</td>\n",
       "      <td>13</td>\n",
       "    </tr>\n",
       "    <tr>\n",
       "      <th>13</th>\n",
       "      <td>95</td>\n",
       "      <td>13</td>\n",
       "      <td>14</td>\n",
       "    </tr>\n",
       "    <tr>\n",
       "      <th>14</th>\n",
       "      <td>102</td>\n",
       "      <td>48</td>\n",
       "      <td>15</td>\n",
       "    </tr>\n",
       "    <tr>\n",
       "      <th>15</th>\n",
       "      <td>109</td>\n",
       "      <td>23</td>\n",
       "      <td>16</td>\n",
       "    </tr>\n",
       "    <tr>\n",
       "      <th>16</th>\n",
       "      <td>116</td>\n",
       "      <td>60</td>\n",
       "      <td>17</td>\n",
       "    </tr>\n",
       "    <tr>\n",
       "      <th>17</th>\n",
       "      <td>123</td>\n",
       "      <td>66</td>\n",
       "      <td>18</td>\n",
       "    </tr>\n",
       "    <tr>\n",
       "      <th>18</th>\n",
       "      <td>130</td>\n",
       "      <td>18</td>\n",
       "      <td>19</td>\n",
       "    </tr>\n",
       "    <tr>\n",
       "      <th>19</th>\n",
       "      <td>137</td>\n",
       "      <td>22</td>\n",
       "      <td>20</td>\n",
       "    </tr>\n",
       "    <tr>\n",
       "      <th>20</th>\n",
       "      <td>144</td>\n",
       "      <td>8</td>\n",
       "      <td>21</td>\n",
       "    </tr>\n",
       "    <tr>\n",
       "      <th>21</th>\n",
       "      <td>151</td>\n",
       "      <td>14</td>\n",
       "      <td>22</td>\n",
       "    </tr>\n",
       "    <tr>\n",
       "      <th>22</th>\n",
       "      <td>158</td>\n",
       "      <td>47</td>\n",
       "      <td>23</td>\n",
       "    </tr>\n",
       "    <tr>\n",
       "      <th>23</th>\n",
       "      <td>165</td>\n",
       "      <td>95</td>\n",
       "      <td>24</td>\n",
       "    </tr>\n",
       "    <tr>\n",
       "      <th>24</th>\n",
       "      <td>172</td>\n",
       "      <td>83</td>\n",
       "      <td>25</td>\n",
       "    </tr>\n",
       "    <tr>\n",
       "      <th>25</th>\n",
       "      <td>179</td>\n",
       "      <td>53</td>\n",
       "      <td>26</td>\n",
       "    </tr>\n",
       "    <tr>\n",
       "      <th>26</th>\n",
       "      <td>186</td>\n",
       "      <td>8</td>\n",
       "      <td>27</td>\n",
       "    </tr>\n",
       "    <tr>\n",
       "      <th>27</th>\n",
       "      <td>193</td>\n",
       "      <td>98</td>\n",
       "      <td>28</td>\n",
       "    </tr>\n",
       "    <tr>\n",
       "      <th>28</th>\n",
       "      <td>200</td>\n",
       "      <td>73</td>\n",
       "      <td>29</td>\n",
       "    </tr>\n",
       "    <tr>\n",
       "      <th>29</th>\n",
       "      <td>207</td>\n",
       "      <td>63</td>\n",
       "      <td>30</td>\n",
       "    </tr>\n",
       "    <tr>\n",
       "      <th>30</th>\n",
       "      <td>214</td>\n",
       "      <td>29</td>\n",
       "      <td>31</td>\n",
       "    </tr>\n",
       "    <tr>\n",
       "      <th>31</th>\n",
       "      <td>221</td>\n",
       "      <td>79</td>\n",
       "      <td>32</td>\n",
       "    </tr>\n",
       "    <tr>\n",
       "      <th>32</th>\n",
       "      <td>228</td>\n",
       "      <td>60</td>\n",
       "      <td>33</td>\n",
       "    </tr>\n",
       "    <tr>\n",
       "      <th>33</th>\n",
       "      <td>235</td>\n",
       "      <td>20</td>\n",
       "      <td>34</td>\n",
       "    </tr>\n",
       "    <tr>\n",
       "      <th>34</th>\n",
       "      <td>242</td>\n",
       "      <td>44</td>\n",
       "      <td>35</td>\n",
       "    </tr>\n",
       "    <tr>\n",
       "      <th>35</th>\n",
       "      <td>249</td>\n",
       "      <td>54</td>\n",
       "      <td>36</td>\n",
       "    </tr>\n",
       "    <tr>\n",
       "      <th>36</th>\n",
       "      <td>256</td>\n",
       "      <td>95</td>\n",
       "      <td>37</td>\n",
       "    </tr>\n",
       "    <tr>\n",
       "      <th>37</th>\n",
       "      <td>263</td>\n",
       "      <td>43</td>\n",
       "      <td>38</td>\n",
       "    </tr>\n",
       "    <tr>\n",
       "      <th>38</th>\n",
       "      <td>270</td>\n",
       "      <td>17</td>\n",
       "      <td>39</td>\n",
       "    </tr>\n",
       "    <tr>\n",
       "      <th>39</th>\n",
       "      <td>277</td>\n",
       "      <td>21</td>\n",
       "      <td>40</td>\n",
       "    </tr>\n",
       "    <tr>\n",
       "      <th>40</th>\n",
       "      <td>284</td>\n",
       "      <td>18</td>\n",
       "      <td>41</td>\n",
       "    </tr>\n",
       "    <tr>\n",
       "      <th>41</th>\n",
       "      <td>291</td>\n",
       "      <td>98</td>\n",
       "      <td>42</td>\n",
       "    </tr>\n",
       "    <tr>\n",
       "      <th>42</th>\n",
       "      <td>298</td>\n",
       "      <td>97</td>\n",
       "      <td>43</td>\n",
       "    </tr>\n",
       "    <tr>\n",
       "      <th>43</th>\n",
       "      <td>305</td>\n",
       "      <td>75</td>\n",
       "      <td>44</td>\n",
       "    </tr>\n",
       "    <tr>\n",
       "      <th>44</th>\n",
       "      <td>312</td>\n",
       "      <td>83</td>\n",
       "      <td>45</td>\n",
       "    </tr>\n",
       "    <tr>\n",
       "      <th>45</th>\n",
       "      <td>319</td>\n",
       "      <td>55</td>\n",
       "      <td>46</td>\n",
       "    </tr>\n",
       "    <tr>\n",
       "      <th>46</th>\n",
       "      <td>326</td>\n",
       "      <td>91</td>\n",
       "      <td>47</td>\n",
       "    </tr>\n",
       "    <tr>\n",
       "      <th>47</th>\n",
       "      <td>333</td>\n",
       "      <td>36</td>\n",
       "      <td>48</td>\n",
       "    </tr>\n",
       "    <tr>\n",
       "      <th>48</th>\n",
       "      <td>340</td>\n",
       "      <td>46</td>\n",
       "      <td>49</td>\n",
       "    </tr>\n",
       "    <tr>\n",
       "      <th>49</th>\n",
       "      <td>347</td>\n",
       "      <td>7</td>\n",
       "      <td>50</td>\n",
       "    </tr>\n",
       "    <tr>\n",
       "      <th>50</th>\n",
       "      <td>354</td>\n",
       "      <td>15</td>\n",
       "      <td>51</td>\n",
       "    </tr>\n",
       "    <tr>\n",
       "      <th>51</th>\n",
       "      <td>361</td>\n",
       "      <td>10</td>\n",
       "      <td>52</td>\n",
       "    </tr>\n",
       "  </tbody>\n",
       "</table>\n",
       "</div>"
      ],
      "text/plain": [
       "    day  search_volume  week\n",
       "0     4             40     1\n",
       "1    11             92     2\n",
       "2    18             54     3\n",
       "3    25             76     4\n",
       "4    32             33     5\n",
       "5    39             91     6\n",
       "6    46             57     7\n",
       "7    53             23     8\n",
       "8    60             80     9\n",
       "9    67             94    10\n",
       "10   74             12    11\n",
       "11   81             66    12\n",
       "12   88             43    13\n",
       "13   95             13    14\n",
       "14  102             48    15\n",
       "15  109             23    16\n",
       "16  116             60    17\n",
       "17  123             66    18\n",
       "18  130             18    19\n",
       "19  137             22    20\n",
       "20  144              8    21\n",
       "21  151             14    22\n",
       "22  158             47    23\n",
       "23  165             95    24\n",
       "24  172             83    25\n",
       "25  179             53    26\n",
       "26  186              8    27\n",
       "27  193             98    28\n",
       "28  200             73    29\n",
       "29  207             63    30\n",
       "30  214             29    31\n",
       "31  221             79    32\n",
       "32  228             60    33\n",
       "33  235             20    34\n",
       "34  242             44    35\n",
       "35  249             54    36\n",
       "36  256             95    37\n",
       "37  263             43    38\n",
       "38  270             17    39\n",
       "39  277             21    40\n",
       "40  284             18    41\n",
       "41  291             98    42\n",
       "42  298             97    43\n",
       "43  305             75    44\n",
       "44  312             83    45\n",
       "45  319             55    46\n",
       "46  326             91    47\n",
       "47  333             36    48\n",
       "48  340             46    49\n",
       "49  347              7    50\n",
       "50  354             15    51\n",
       "51  361             10    52"
      ]
     },
     "execution_count": 124,
     "metadata": {},
     "output_type": "execute_result"
    }
   ],
   "source": [
    "frame"
   ]
  },
  {
   "cell_type": "markdown",
   "metadata": {},
   "source": [
    "## 일 단위 데이터로 늘리기"
   ]
  },
  {
   "cell_type": "markdown",
   "metadata": {},
   "source": [
    "1과 7 사이에 2개의 수 더 늘리기"
   ]
  },
  {
   "cell_type": "code",
   "execution_count": 159,
   "metadata": {
    "collapsed": true
   },
   "outputs": [],
   "source": [
    "a = [1, 7]"
   ]
  },
  {
   "cell_type": "code",
   "execution_count": 160,
   "metadata": {
    "collapsed": false
   },
   "outputs": [
    {
     "data": {
      "text/plain": [
       "[1, 7]"
      ]
     },
     "execution_count": 160,
     "metadata": {},
     "output_type": "execute_result"
    }
   ],
   "source": [
    "a"
   ]
  },
  {
   "cell_type": "code",
   "execution_count": 161,
   "metadata": {
    "collapsed": false,
    "scrolled": true
   },
   "outputs": [],
   "source": [
    "b = (a[1]-a[1-1])/3"
   ]
  },
  {
   "cell_type": "code",
   "execution_count": 162,
   "metadata": {
    "collapsed": false
   },
   "outputs": [],
   "source": [
    "a1 = a[1-1] + b"
   ]
  },
  {
   "cell_type": "code",
   "execution_count": 163,
   "metadata": {
    "collapsed": false
   },
   "outputs": [
    {
     "data": {
      "text/plain": [
       "3.0"
      ]
     },
     "execution_count": 163,
     "metadata": {},
     "output_type": "execute_result"
    }
   ],
   "source": [
    "a1"
   ]
  },
  {
   "cell_type": "code",
   "execution_count": 164,
   "metadata": {
    "collapsed": true
   },
   "outputs": [],
   "source": [
    "a2 = a1 + b"
   ]
  },
  {
   "cell_type": "code",
   "execution_count": 165,
   "metadata": {
    "collapsed": false
   },
   "outputs": [
    {
     "data": {
      "text/plain": [
       "5.0"
      ]
     },
     "execution_count": 165,
     "metadata": {},
     "output_type": "execute_result"
    }
   ],
   "source": [
    "a2"
   ]
  },
  {
   "cell_type": "code",
   "execution_count": 166,
   "metadata": {
    "collapsed": true
   },
   "outputs": [],
   "source": [
    "a3 = a2 + b"
   ]
  },
  {
   "cell_type": "code",
   "execution_count": 167,
   "metadata": {
    "collapsed": false
   },
   "outputs": [
    {
     "data": {
      "text/plain": [
       "True"
      ]
     },
     "execution_count": 167,
     "metadata": {},
     "output_type": "execute_result"
    }
   ],
   "source": [
    "round(a3, 5) == a[1]"
   ]
  },
  {
   "cell_type": "code",
   "execution_count": 168,
   "metadata": {
    "collapsed": false
   },
   "outputs": [],
   "source": [
    "final = [a[1-1]] + [a1] + [a2] "
   ]
  },
  {
   "cell_type": "code",
   "execution_count": 169,
   "metadata": {
    "collapsed": false
   },
   "outputs": [
    {
     "data": {
      "text/plain": [
       "[1, 3.0, 5.0]"
      ]
     },
     "execution_count": 169,
     "metadata": {},
     "output_type": "execute_result"
    }
   ],
   "source": [
    "final"
   ]
  },
  {
   "cell_type": "markdown",
   "metadata": {},
   "source": [
    "실제 데이터로 생성"
   ]
  },
  {
   "cell_type": "code",
   "execution_count": 170,
   "metadata": {
    "collapsed": true
   },
   "outputs": [],
   "source": [
    "final = []\n",
    "part = []"
   ]
  },
  {
   "cell_type": "code",
   "execution_count": 171,
   "metadata": {
    "collapsed": false
   },
   "outputs": [],
   "source": [
    "for i in range(1, 52) :\n",
    "    b = (search[i] - search[i-1])/7\n",
    "    a1 = search[i-1] + b\n",
    "    a2 = a1 + b\n",
    "    a3 = a2 + b\n",
    "    a4 = a3 + b\n",
    "    a5 = a4 + b\n",
    "    a6 = a5 + b\n",
    "    part = [search[i-1]] + [a1] + [a2] + [a3] + [a4] + [a5] + [a6] \n",
    "    final = final + part"
   ]
  },
  {
   "cell_type": "code",
   "execution_count": 172,
   "metadata": {
    "collapsed": false
   },
   "outputs": [
    {
     "data": {
      "text/plain": [
       "[40,\n",
       " 47.42857142857143,\n",
       " 54.85714285714286,\n",
       " 62.28571428571429,\n",
       " 69.71428571428572,\n",
       " 77.14285714285715,\n",
       " 84.57142857142858,\n",
       " 92,\n",
       " 86.57142857142857,\n",
       " 81.14285714285714,\n",
       " 75.71428571428571,\n",
       " 70.28571428571428,\n",
       " 64.85714285714285,\n",
       " 59.428571428571416,\n",
       " 54,\n",
       " 57.142857142857146,\n",
       " 60.28571428571429,\n",
       " 63.42857142857144,\n",
       " 66.57142857142858,\n",
       " 69.71428571428572,\n",
       " 72.85714285714286,\n",
       " 76,\n",
       " 69.85714285714286,\n",
       " 63.714285714285715,\n",
       " 57.57142857142857,\n",
       " 51.42857142857142,\n",
       " 45.28571428571428,\n",
       " 39.14285714285713,\n",
       " 33,\n",
       " 41.285714285714285,\n",
       " 49.57142857142857,\n",
       " 57.857142857142854,\n",
       " 66.14285714285714,\n",
       " 74.42857142857143,\n",
       " 82.71428571428572,\n",
       " 91,\n",
       " 86.14285714285714,\n",
       " 81.28571428571428,\n",
       " 76.42857142857142,\n",
       " 71.57142857142856,\n",
       " 66.7142857142857,\n",
       " 61.85714285714284,\n",
       " 57,\n",
       " 52.142857142857146,\n",
       " 47.28571428571429,\n",
       " 42.42857142857144,\n",
       " 37.571428571428584,\n",
       " 32.71428571428573,\n",
       " 27.857142857142872,\n",
       " 23,\n",
       " 31.142857142857142,\n",
       " 39.285714285714285,\n",
       " 47.42857142857143,\n",
       " 55.57142857142857,\n",
       " 63.71428571428571,\n",
       " 71.85714285714285,\n",
       " 80,\n",
       " 82.0,\n",
       " 84.0,\n",
       " 86.0,\n",
       " 88.0,\n",
       " 90.0,\n",
       " 92.0,\n",
       " 94,\n",
       " 82.28571428571429,\n",
       " 70.57142857142858,\n",
       " 58.85714285714287,\n",
       " 47.14285714285715,\n",
       " 35.42857142857144,\n",
       " 23.714285714285722,\n",
       " 12,\n",
       " 19.714285714285715,\n",
       " 27.42857142857143,\n",
       " 35.142857142857146,\n",
       " 42.85714285714286,\n",
       " 50.57142857142858,\n",
       " 58.28571428571429,\n",
       " 66,\n",
       " 62.714285714285715,\n",
       " 59.42857142857143,\n",
       " 56.142857142857146,\n",
       " 52.85714285714286,\n",
       " 49.57142857142858,\n",
       " 46.28571428571429,\n",
       " 43,\n",
       " 38.714285714285715,\n",
       " 34.42857142857143,\n",
       " 30.142857142857146,\n",
       " 25.85714285714286,\n",
       " 21.571428571428577,\n",
       " 17.285714285714292,\n",
       " 13,\n",
       " 18.0,\n",
       " 23.0,\n",
       " 28.0,\n",
       " 33.0,\n",
       " 38.0,\n",
       " 43.0,\n",
       " 48,\n",
       " 44.42857142857143,\n",
       " 40.85714285714286,\n",
       " 37.28571428571429,\n",
       " 33.71428571428572,\n",
       " 30.14285714285715,\n",
       " 26.571428571428577,\n",
       " 23,\n",
       " 28.285714285714285,\n",
       " 33.57142857142857,\n",
       " 38.857142857142854,\n",
       " 44.14285714285714,\n",
       " 49.42857142857142,\n",
       " 54.71428571428571,\n",
       " 60,\n",
       " 60.857142857142854,\n",
       " 61.71428571428571,\n",
       " 62.57142857142856,\n",
       " 63.428571428571416,\n",
       " 64.28571428571428,\n",
       " 65.14285714285714,\n",
       " 66,\n",
       " 59.142857142857146,\n",
       " 52.28571428571429,\n",
       " 45.42857142857144,\n",
       " 38.571428571428584,\n",
       " 31.714285714285726,\n",
       " 24.85714285714287,\n",
       " 18,\n",
       " 18.571428571428573,\n",
       " 19.142857142857146,\n",
       " 19.71428571428572,\n",
       " 20.285714285714292,\n",
       " 20.857142857142865,\n",
       " 21.428571428571438,\n",
       " 22,\n",
       " 20.0,\n",
       " 18.0,\n",
       " 16.0,\n",
       " 14.0,\n",
       " 12.0,\n",
       " 10.0,\n",
       " 8,\n",
       " 8.857142857142858,\n",
       " 9.714285714285715,\n",
       " 10.571428571428573,\n",
       " 11.42857142857143,\n",
       " 12.285714285714288,\n",
       " 13.142857142857146,\n",
       " 14,\n",
       " 18.714285714285715,\n",
       " 23.42857142857143,\n",
       " 28.142857142857146,\n",
       " 32.85714285714286,\n",
       " 37.57142857142858,\n",
       " 42.28571428571429,\n",
       " 47,\n",
       " 53.857142857142854,\n",
       " 60.71428571428571,\n",
       " 67.57142857142857,\n",
       " 74.42857142857143,\n",
       " 81.28571428571429,\n",
       " 88.14285714285715,\n",
       " 95,\n",
       " 93.28571428571429,\n",
       " 91.57142857142858,\n",
       " 89.85714285714288,\n",
       " 88.14285714285717,\n",
       " 86.42857142857146,\n",
       " 84.71428571428575,\n",
       " 83,\n",
       " 78.71428571428571,\n",
       " 74.42857142857142,\n",
       " 70.14285714285712,\n",
       " 65.85714285714283,\n",
       " 61.57142857142855,\n",
       " 57.28571428571426,\n",
       " 53,\n",
       " 46.57142857142857,\n",
       " 40.14285714285714,\n",
       " 33.71428571428571,\n",
       " 27.285714285714278,\n",
       " 20.857142857142847,\n",
       " 14.428571428571418,\n",
       " 8,\n",
       " 20.857142857142858,\n",
       " 33.714285714285715,\n",
       " 46.57142857142857,\n",
       " 59.42857142857143,\n",
       " 72.28571428571429,\n",
       " 85.14285714285715,\n",
       " 98,\n",
       " 94.42857142857143,\n",
       " 90.85714285714286,\n",
       " 87.28571428571429,\n",
       " 83.71428571428572,\n",
       " 80.14285714285715,\n",
       " 76.57142857142858,\n",
       " 73,\n",
       " 71.57142857142857,\n",
       " 70.14285714285714,\n",
       " 68.71428571428571,\n",
       " 67.28571428571428,\n",
       " 65.85714285714285,\n",
       " 64.42857142857142,\n",
       " 63,\n",
       " 58.142857142857146,\n",
       " 53.28571428571429,\n",
       " 48.42857142857144,\n",
       " 43.571428571428584,\n",
       " 38.71428571428573,\n",
       " 33.857142857142875,\n",
       " 29,\n",
       " 36.142857142857146,\n",
       " 43.28571428571429,\n",
       " 50.42857142857144,\n",
       " 57.571428571428584,\n",
       " 64.71428571428572,\n",
       " 71.85714285714286,\n",
       " 79,\n",
       " 76.28571428571429,\n",
       " 73.57142857142858,\n",
       " 70.85714285714288,\n",
       " 68.14285714285717,\n",
       " 65.42857142857146,\n",
       " 62.714285714285744,\n",
       " 60,\n",
       " 54.285714285714285,\n",
       " 48.57142857142857,\n",
       " 42.857142857142854,\n",
       " 37.14285714285714,\n",
       " 31.428571428571423,\n",
       " 25.714285714285708,\n",
       " 20,\n",
       " 23.428571428571427,\n",
       " 26.857142857142854,\n",
       " 30.28571428571428,\n",
       " 33.71428571428571,\n",
       " 37.14285714285714,\n",
       " 40.57142857142857,\n",
       " 44,\n",
       " 45.42857142857143,\n",
       " 46.85714285714286,\n",
       " 48.28571428571429,\n",
       " 49.71428571428572,\n",
       " 51.14285714285715,\n",
       " 52.571428571428584,\n",
       " 54,\n",
       " 59.857142857142854,\n",
       " 65.71428571428571,\n",
       " 71.57142857142857,\n",
       " 77.42857142857143,\n",
       " 83.28571428571429,\n",
       " 89.14285714285715,\n",
       " 95,\n",
       " 87.57142857142857,\n",
       " 80.14285714285714,\n",
       " 72.71428571428571,\n",
       " 65.28571428571428,\n",
       " 57.85714285714285,\n",
       " 50.428571428571416,\n",
       " 43,\n",
       " 39.285714285714285,\n",
       " 35.57142857142857,\n",
       " 31.857142857142854,\n",
       " 28.14285714285714,\n",
       " 24.428571428571423,\n",
       " 20.714285714285708,\n",
       " 17,\n",
       " 17.571428571428573,\n",
       " 18.142857142857146,\n",
       " 18.71428571428572,\n",
       " 19.285714285714292,\n",
       " 19.857142857142865,\n",
       " 20.428571428571438,\n",
       " 21,\n",
       " 20.571428571428573,\n",
       " 20.142857142857146,\n",
       " 19.71428571428572,\n",
       " 19.285714285714292,\n",
       " 18.857142857142865,\n",
       " 18.428571428571438,\n",
       " 18,\n",
       " 29.42857142857143,\n",
       " 40.85714285714286,\n",
       " 52.28571428571429,\n",
       " 63.71428571428572,\n",
       " 75.14285714285715,\n",
       " 86.57142857142858,\n",
       " 98,\n",
       " 97.85714285714286,\n",
       " 97.71428571428572,\n",
       " 97.57142857142858,\n",
       " 97.42857142857144,\n",
       " 97.2857142857143,\n",
       " 97.14285714285717,\n",
       " 97,\n",
       " 93.85714285714286,\n",
       " 90.71428571428572,\n",
       " 87.57142857142858,\n",
       " 84.42857142857144,\n",
       " 81.2857142857143,\n",
       " 78.14285714285717,\n",
       " 75,\n",
       " 76.14285714285714,\n",
       " 77.28571428571428,\n",
       " 78.42857142857142,\n",
       " 79.57142857142856,\n",
       " 80.7142857142857,\n",
       " 81.85714285714283,\n",
       " 83,\n",
       " 79.0,\n",
       " 75.0,\n",
       " 71.0,\n",
       " 67.0,\n",
       " 63.0,\n",
       " 59.0,\n",
       " 55,\n",
       " 60.142857142857146,\n",
       " 65.28571428571429,\n",
       " 70.42857142857143,\n",
       " 75.57142857142857,\n",
       " 80.71428571428571,\n",
       " 85.85714285714285,\n",
       " 91,\n",
       " 83.14285714285714,\n",
       " 75.28571428571428,\n",
       " 67.42857142857142,\n",
       " 59.57142857142856,\n",
       " 51.71428571428571,\n",
       " 43.857142857142854,\n",
       " 36,\n",
       " 37.42857142857143,\n",
       " 38.85714285714286,\n",
       " 40.28571428571429,\n",
       " 41.71428571428572,\n",
       " 43.14285714285715,\n",
       " 44.571428571428584,\n",
       " 46,\n",
       " 40.42857142857143,\n",
       " 34.85714285714286,\n",
       " 29.285714285714292,\n",
       " 23.714285714285722,\n",
       " 18.142857142857153,\n",
       " 12.571428571428582,\n",
       " 7,\n",
       " 8.142857142857142,\n",
       " 9.285714285714285,\n",
       " 10.428571428571427,\n",
       " 11.57142857142857,\n",
       " 12.714285714285712,\n",
       " 13.857142857142854,\n",
       " 15,\n",
       " 14.285714285714286,\n",
       " 13.571428571428573,\n",
       " 12.85714285714286,\n",
       " 12.142857142857146,\n",
       " 11.428571428571432,\n",
       " 10.714285714285719]"
      ]
     },
     "execution_count": 172,
     "metadata": {},
     "output_type": "execute_result"
    }
   ],
   "source": [
    "final"
   ]
  },
  {
   "cell_type": "code",
   "execution_count": 173,
   "metadata": {
    "collapsed": false,
    "scrolled": true
   },
   "outputs": [
    {
     "data": {
      "text/plain": [
       "357"
      ]
     },
     "execution_count": 173,
     "metadata": {},
     "output_type": "execute_result"
    }
   ],
   "source": [
    "len(final)"
   ]
  },
  {
   "cell_type": "markdown",
   "metadata": {},
   "source": [
    "나중에 plot을 배우면 더 직관적으로 이해하기 좋을 것 같음"
   ]
  },
  {
   "cell_type": "markdown",
   "metadata": {},
   "source": [
    "## 일 단위 데이터 만들기"
   ]
  },
  {
   "cell_type": "markdown",
   "metadata": {},
   "source": [
    "난수 생성으로 일 리스트 만들기"
   ]
  },
  {
   "cell_type": "code",
   "execution_count": 176,
   "metadata": {
    "collapsed": true
   },
   "outputs": [],
   "source": [
    "day = list(range(4,361)) #첫째주의 중간 일인 4일부터 마지막주(52주)의 중간 일인 361일 전날까지에 대해서 산출한 것이므로 "
   ]
  },
  {
   "cell_type": "code",
   "execution_count": null,
   "metadata": {
    "collapsed": true
   },
   "outputs": [],
   "source": [
    "day"
   ]
  },
  {
   "cell_type": "code",
   "execution_count": 76,
   "metadata": {
    "collapsed": false,
    "scrolled": true
   },
   "outputs": [
    {
     "data": {
      "text/plain": [
       "357"
      ]
     },
     "execution_count": 76,
     "metadata": {},
     "output_type": "execute_result"
    }
   ],
   "source": [
    "len(day)"
   ]
  },
  {
   "cell_type": "markdown",
   "metadata": {},
   "source": [
    "## 최종 데이터 프레임 만들기"
   ]
  },
  {
   "cell_type": "code",
   "execution_count": 178,
   "metadata": {
    "collapsed": true
   },
   "outputs": [],
   "source": [
    "full_data = {\n",
    "    'day': day,\n",
    "    'search volume': final,\n",
    "}"
   ]
  },
  {
   "cell_type": "code",
   "execution_count": 179,
   "metadata": {
    "collapsed": false
   },
   "outputs": [],
   "source": [
    "full_frame = DataFrame(full_data)"
   ]
  },
  {
   "cell_type": "code",
   "execution_count": null,
   "metadata": {
    "collapsed": true
   },
   "outputs": [],
   "source": [
    "full_frame"
   ]
  }
 ],
 "metadata": {
  "kernelspec": {
   "display_name": "Python 3",
   "language": "python",
   "name": "python3"
  },
  "language_info": {
   "codemirror_mode": {
    "name": "ipython",
    "version": 3
   },
   "file_extension": ".py",
   "mimetype": "text/x-python",
   "name": "python",
   "nbconvert_exporter": "python",
   "pygments_lexer": "ipython3",
   "version": "3.5.0"
  }
 },
 "nbformat": 4,
 "nbformat_minor": 0
}
